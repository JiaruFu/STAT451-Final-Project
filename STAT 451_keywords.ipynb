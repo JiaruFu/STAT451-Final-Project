{
 "cells": [
  {
   "cell_type": "markdown",
   "id": "6f5e546f",
   "metadata": {},
   "source": [
    "# Machine Learning Models (Using `keywords`)"
   ]
  },
  {
   "cell_type": "markdown",
   "id": "1573e1d7",
   "metadata": {},
   "source": [
    "### Table of Content\n",
    "\n",
    "* [1 Python Setup](#1)\n",
    "* [2 Data Visulation](#2)\n",
    "    * [2.1 Data Cleaning](#2.1)\n",
    "* [3 Model Fitting](#3)\n",
    "    * [3.1 K-Nearest-Neighbors Classifier](#3.1)\n",
    "    * [3.2 Multinomial NB](#3.2)\n",
    "    * [3.3 RandomForestClassifier](#3.3)\n",
    "    * [3.4 OneVsRestClassifier ](#3.4)\n",
    "    * [3.5 LinearSVC](#3.5)\n",
    "    * [3.6 StackingCVClassifier + GridSearchCV](#3.6)\n",
    "    * [3.7 Decision Tree Classifier + Grid Search CV](#3.7)"
   ]
  },
  {
   "cell_type": "markdown",
   "id": "d3a336c1",
   "metadata": {},
   "source": [
    "## 1 Python Setup <a class=\"anchor\" id=\"1\"></a>"
   ]
  },
  {
   "cell_type": "code",
   "execution_count": 1,
   "id": "f32f2852",
   "metadata": {},
   "outputs": [],
   "source": [
    "import re\n",
    "import random\n",
    "import numpy as np\n",
    "import pandas as pd\n",
    "from sklearn.feature_extraction.text import TfidfTransformer\n",
    "from sklearn.ensemble import RandomForestClassifier\n",
    "from sklearn.naive_bayes import MultinomialNB\n",
    "from sklearn.model_selection import train_test_split\n",
    "from sklearn.feature_extraction.text import CountVectorizer\n",
    "from sklearn.preprocessing import LabelEncoder\n",
    "from sklearn.pipeline import Pipeline\n",
    "from sklearn.feature_extraction.text import TfidfTransformer\n",
    "from sklearn.multiclass import OneVsRestClassifier\n",
    "from sklearn.svm import LinearSVC\n",
    "from sklearn.preprocessing import StandardScaler\n",
    "from nltk.tokenize import word_tokenize\n",
    "from nltk.corpus import stopwords\n",
    "from xgboost import XGBClassifier\n",
    "from mlxtend.classifier import StackingCVClassifier\n",
    "from sklearn.linear_model import LogisticRegression\n",
    "from sklearn.model_selection import GridSearchCV\n",
    "from sklearn.pipeline import make_pipeline\n",
    "from sklearn.tree import DecisionTreeClassifier\n",
    "from sklearn.neighbors import KNeighborsClassifier\n",
    "from sklearn.metrics import accuracy_score\n",
    "from sklearn.metrics import f1_score\n",
    "from sklearn.metrics import precision_score\n",
    "from sklearn.metrics import recall_score"
   ]
  },
  {
   "cell_type": "markdown",
   "id": "b8b5cd2b",
   "metadata": {},
   "source": [
    "## 2 Data Visualization <a class=\"anchor\" id=\"2\"></a>"
   ]
  },
  {
   "cell_type": "code",
   "execution_count": 2,
   "id": "a5f1930b",
   "metadata": {},
   "outputs": [],
   "source": [
    "news = pd.read_csv('final_news_df.csv')\n",
    "news = news.dropna()"
   ]
  },
  {
   "cell_type": "code",
   "execution_count": 3,
   "id": "39969dd5",
   "metadata": {},
   "outputs": [
    {
     "data": {
      "text/html": [
       "<div>\n",
       "<style scoped>\n",
       "    .dataframe tbody tr th:only-of-type {\n",
       "        vertical-align: middle;\n",
       "    }\n",
       "\n",
       "    .dataframe tbody tr th {\n",
       "        vertical-align: top;\n",
       "    }\n",
       "\n",
       "    .dataframe thead th {\n",
       "        text-align: right;\n",
       "    }\n",
       "</style>\n",
       "<table border=\"1\" class=\"dataframe\">\n",
       "  <thead>\n",
       "    <tr style=\"text-align: right;\">\n",
       "      <th></th>\n",
       "      <th>category</th>\n",
       "      <th>headline</th>\n",
       "      <th>short_description</th>\n",
       "      <th>date</th>\n",
       "      <th>keywords</th>\n",
       "    </tr>\n",
       "  </thead>\n",
       "  <tbody>\n",
       "    <tr>\n",
       "      <th>1</th>\n",
       "      <td>BUSINESS</td>\n",
       "      <td>Investment Crowdfunding Draws a Crowd</td>\n",
       "      <td>It's getting crowded in the investment crowdfu...</td>\n",
       "      <td>2015-03-02</td>\n",
       "      <td>investment-crowdfunding-draw</td>\n",
       "    </tr>\n",
       "    <tr>\n",
       "      <th>2</th>\n",
       "      <td>BUSINESS</td>\n",
       "      <td>Office Romances Often Sparked By Emoticon-Lace...</td>\n",
       "      <td>But even though they might literally be sendin...</td>\n",
       "      <td>2012-08-26</td>\n",
       "      <td>office-romances-emoticons</td>\n",
       "    </tr>\n",
       "    <tr>\n",
       "      <th>3</th>\n",
       "      <td>BUSINESS</td>\n",
       "      <td>Verizon Could Buy Yahoo In The Next Few Days</td>\n",
       "      <td>A deal could be coming soon.</td>\n",
       "      <td>2016-07-22</td>\n",
       "      <td>verizon-could-buy-yahoo-next-few-days</td>\n",
       "    </tr>\n",
       "    <tr>\n",
       "      <th>4</th>\n",
       "      <td>BUSINESS</td>\n",
       "      <td>What's Your Meeting Brand?</td>\n",
       "      <td>Many leaders operate as if their meeting brand...</td>\n",
       "      <td>2014-06-11</td>\n",
       "      <td>whats-your-meeting-brand</td>\n",
       "    </tr>\n",
       "    <tr>\n",
       "      <th>5</th>\n",
       "      <td>BUSINESS</td>\n",
       "      <td>Feds OK Charter And Time Warner Mega Merger</td>\n",
       "      <td>The deal, which still needs FCC approval, woul...</td>\n",
       "      <td>2016-04-25</td>\n",
       "      <td>charter-time-warner-cable-takeover</td>\n",
       "    </tr>\n",
       "  </tbody>\n",
       "</table>\n",
       "</div>"
      ],
      "text/plain": [
       "   category                                           headline  \\\n",
       "1  BUSINESS              Investment Crowdfunding Draws a Crowd   \n",
       "2  BUSINESS  Office Romances Often Sparked By Emoticon-Lace...   \n",
       "3  BUSINESS       Verizon Could Buy Yahoo In The Next Few Days   \n",
       "4  BUSINESS                         What's Your Meeting Brand?   \n",
       "5  BUSINESS        Feds OK Charter And Time Warner Mega Merger   \n",
       "\n",
       "                                   short_description        date  \\\n",
       "1  It's getting crowded in the investment crowdfu...  2015-03-02   \n",
       "2  But even though they might literally be sendin...  2012-08-26   \n",
       "3                       A deal could be coming soon.  2016-07-22   \n",
       "4  Many leaders operate as if their meeting brand...  2014-06-11   \n",
       "5  The deal, which still needs FCC approval, woul...  2016-04-25   \n",
       "\n",
       "                                keywords  \n",
       "1           investment-crowdfunding-draw  \n",
       "2              office-romances-emoticons  \n",
       "3  verizon-could-buy-yahoo-next-few-days  \n",
       "4               whats-your-meeting-brand  \n",
       "5     charter-time-warner-cable-takeover  "
      ]
     },
     "execution_count": 3,
     "metadata": {},
     "output_type": "execute_result"
    }
   ],
   "source": [
    "news.head()"
   ]
  },
  {
   "cell_type": "code",
   "execution_count": 4,
   "id": "2dd23505",
   "metadata": {},
   "outputs": [],
   "source": [
    "def remove_sign(text):\n",
    "    pattern = r'[,:!?.\\/\\|\\*\\(\\)\\\"]'\n",
    "    text=re.sub(pattern,' ',text)\n",
    "    text = re.sub('[^a-zA-Z]',\" \" ,text)\n",
    "    return text\n",
    "\n",
    "news['text'] = news['short_description'].apply(remove_sign)\n",
    "\n",
    "def remove_stop_words(text):\n",
    "    tokens = word_tokenize(text)\n",
    "    words = [word.lower() for word in tokens if word.isalpha()]\n",
    "    stop_words = set(stopwords.words('english'))\n",
    "    words = [word for word in words if not word in stop_words]\n",
    "    str1 = \" \".join(words)\n",
    "    return str1.strip()\n",
    "        \n",
    "news['text'] = news['text'].apply(remove_stop_words)"
   ]
  },
  {
   "cell_type": "code",
   "execution_count": 5,
   "id": "49c0ae82",
   "metadata": {},
   "outputs": [],
   "source": [
    "def remove_dash(text):\n",
    "    text = text.replace(\"-\", \" \")\n",
    "    return text\n",
    "\n",
    "news['keywords text'] = news['keywords'].apply(remove_dash)"
   ]
  },
  {
   "cell_type": "code",
   "execution_count": 6,
   "id": "2e4dbc17",
   "metadata": {},
   "outputs": [
    {
     "data": {
      "text/html": [
       "<div>\n",
       "<style scoped>\n",
       "    .dataframe tbody tr th:only-of-type {\n",
       "        vertical-align: middle;\n",
       "    }\n",
       "\n",
       "    .dataframe tbody tr th {\n",
       "        vertical-align: top;\n",
       "    }\n",
       "\n",
       "    .dataframe thead th {\n",
       "        text-align: right;\n",
       "    }\n",
       "</style>\n",
       "<table border=\"1\" class=\"dataframe\">\n",
       "  <thead>\n",
       "    <tr style=\"text-align: right;\">\n",
       "      <th></th>\n",
       "      <th>category</th>\n",
       "      <th>headline</th>\n",
       "      <th>short_description</th>\n",
       "      <th>date</th>\n",
       "      <th>keywords</th>\n",
       "      <th>text</th>\n",
       "      <th>keywords text</th>\n",
       "    </tr>\n",
       "  </thead>\n",
       "  <tbody>\n",
       "    <tr>\n",
       "      <th>1</th>\n",
       "      <td>BUSINESS</td>\n",
       "      <td>Investment Crowdfunding Draws a Crowd</td>\n",
       "      <td>It's getting crowded in the investment crowdfu...</td>\n",
       "      <td>2015-03-02</td>\n",
       "      <td>investment-crowdfunding-draw</td>\n",
       "      <td>getting crowded investment crowdfunding space ...</td>\n",
       "      <td>investment crowdfunding draw</td>\n",
       "    </tr>\n",
       "    <tr>\n",
       "      <th>2</th>\n",
       "      <td>BUSINESS</td>\n",
       "      <td>Office Romances Often Sparked By Emoticon-Lace...</td>\n",
       "      <td>But even though they might literally be sendin...</td>\n",
       "      <td>2012-08-26</td>\n",
       "      <td>office-romances-emoticons</td>\n",
       "      <td>even though might literally sending wrong mess...</td>\n",
       "      <td>office romances emoticons</td>\n",
       "    </tr>\n",
       "    <tr>\n",
       "      <th>3</th>\n",
       "      <td>BUSINESS</td>\n",
       "      <td>Verizon Could Buy Yahoo In The Next Few Days</td>\n",
       "      <td>A deal could be coming soon.</td>\n",
       "      <td>2016-07-22</td>\n",
       "      <td>verizon-could-buy-yahoo-next-few-days</td>\n",
       "      <td>deal could coming soon</td>\n",
       "      <td>verizon could buy yahoo next few days</td>\n",
       "    </tr>\n",
       "    <tr>\n",
       "      <th>4</th>\n",
       "      <td>BUSINESS</td>\n",
       "      <td>What's Your Meeting Brand?</td>\n",
       "      <td>Many leaders operate as if their meeting brand...</td>\n",
       "      <td>2014-06-11</td>\n",
       "      <td>whats-your-meeting-brand</td>\n",
       "      <td>many leaders operate meeting brand directly af...</td>\n",
       "      <td>whats your meeting brand</td>\n",
       "    </tr>\n",
       "    <tr>\n",
       "      <th>5</th>\n",
       "      <td>BUSINESS</td>\n",
       "      <td>Feds OK Charter And Time Warner Mega Merger</td>\n",
       "      <td>The deal, which still needs FCC approval, woul...</td>\n",
       "      <td>2016-04-25</td>\n",
       "      <td>charter-time-warner-cable-takeover</td>\n",
       "      <td>deal still needs fcc approval would create sec...</td>\n",
       "      <td>charter time warner cable takeover</td>\n",
       "    </tr>\n",
       "  </tbody>\n",
       "</table>\n",
       "</div>"
      ],
      "text/plain": [
       "   category                                           headline  \\\n",
       "1  BUSINESS              Investment Crowdfunding Draws a Crowd   \n",
       "2  BUSINESS  Office Romances Often Sparked By Emoticon-Lace...   \n",
       "3  BUSINESS       Verizon Could Buy Yahoo In The Next Few Days   \n",
       "4  BUSINESS                         What's Your Meeting Brand?   \n",
       "5  BUSINESS        Feds OK Charter And Time Warner Mega Merger   \n",
       "\n",
       "                                   short_description        date  \\\n",
       "1  It's getting crowded in the investment crowdfu...  2015-03-02   \n",
       "2  But even though they might literally be sendin...  2012-08-26   \n",
       "3                       A deal could be coming soon.  2016-07-22   \n",
       "4  Many leaders operate as if their meeting brand...  2014-06-11   \n",
       "5  The deal, which still needs FCC approval, woul...  2016-04-25   \n",
       "\n",
       "                                keywords  \\\n",
       "1           investment-crowdfunding-draw   \n",
       "2              office-romances-emoticons   \n",
       "3  verizon-could-buy-yahoo-next-few-days   \n",
       "4               whats-your-meeting-brand   \n",
       "5     charter-time-warner-cable-takeover   \n",
       "\n",
       "                                                text  \\\n",
       "1  getting crowded investment crowdfunding space ...   \n",
       "2  even though might literally sending wrong mess...   \n",
       "3                             deal could coming soon   \n",
       "4  many leaders operate meeting brand directly af...   \n",
       "5  deal still needs fcc approval would create sec...   \n",
       "\n",
       "                           keywords text  \n",
       "1           investment crowdfunding draw  \n",
       "2              office romances emoticons  \n",
       "3  verizon could buy yahoo next few days  \n",
       "4               whats your meeting brand  \n",
       "5     charter time warner cable takeover  "
      ]
     },
     "execution_count": 6,
     "metadata": {},
     "output_type": "execute_result"
    }
   ],
   "source": [
    "news.head()"
   ]
  },
  {
   "cell_type": "markdown",
   "id": "4e6d0b43",
   "metadata": {},
   "source": [
    "### 2.1 Data Cleaning <a class=\"anchor\" id=\"2.1\"></a>"
   ]
  },
  {
   "cell_type": "code",
   "execution_count": 7,
   "id": "702d5adc",
   "metadata": {},
   "outputs": [
    {
     "name": "stdout",
     "output_type": "stream",
     "text": [
      "Train/Valid/Test sizes: 15689 3923 8406\n"
     ]
    }
   ],
   "source": [
    "vectorizer = CountVectorizer()\n",
    "x = vectorizer.fit_transform(news['keywords text'])\n",
    "tfidf_transformer = TfidfTransformer()\n",
    "X_train_tfidf = tfidf_transformer.fit_transform(x)\n",
    "\n",
    "\n",
    "encoder = LabelEncoder()\n",
    "y = encoder.fit_transform(news['category'])\n",
    "\n",
    "x_train, x_test, y_train, y_test = \\\n",
    "    train_test_split(X_train_tfidf, y, test_size=0.3, random_state=123, stratify=y)\n",
    "\n",
    "x_train_sub, x_valid, y_train_sub, y_valid = \\\n",
    "    train_test_split(x_train, y_train, test_size=0.2, random_state=123, stratify=y_train)\n",
    "\n",
    "print('Train/Valid/Test sizes:', y_train_sub.shape[0], y_valid.shape[0], y_test.shape[0])"
   ]
  },
  {
   "cell_type": "markdown",
   "id": "8281463b",
   "metadata": {},
   "source": [
    "## 3 Model Fitting <a class=\"anchor\" id=\"3\"></a>"
   ]
  },
  {
   "cell_type": "markdown",
   "id": "f037633a",
   "metadata": {},
   "source": [
    "## 3.1 K-Nearest-Neighbors Classifier <a class=\"anchor\" id=\"3.1\"></a>"
   ]
  },
  {
   "cell_type": "code",
   "execution_count": 8,
   "id": "d30e479c",
   "metadata": {},
   "outputs": [
    {
     "data": {
      "text/plain": [
       "KNeighborsClassifier(n_neighbors=3)"
      ]
     },
     "execution_count": 8,
     "metadata": {},
     "output_type": "execute_result"
    }
   ],
   "source": [
    "knn_model = KNeighborsClassifier(n_neighbors=3)\n",
    "knn_model.fit(x_train, y_train)"
   ]
  },
  {
   "cell_type": "markdown",
   "id": "7358f6ea",
   "metadata": {},
   "source": [
    "### 3.1.1 Training Set"
   ]
  },
  {
   "cell_type": "code",
   "execution_count": 9,
   "id": "755c6988",
   "metadata": {},
   "outputs": [
    {
     "name": "stdout",
     "output_type": "stream",
     "text": [
      "Training Accuracy: 80.51%\n",
      "Valid set accuracy: 80.30%\n",
      "Test set accuracy: 65.05%\n"
     ]
    }
   ],
   "source": [
    "print(f'Training Accuracy: {knn_model.score(x_train, y_train)*100:.2f}%')\n",
    "print(f'Valid set accuracy: {knn_model.score(x_valid, y_valid)*100:.2f}%')\n",
    "print(f'Test set accuracy: {knn_model.score(x_test, y_test)*100:.2f}%')"
   ]
  },
  {
   "cell_type": "markdown",
   "id": "a4d24378",
   "metadata": {},
   "source": [
    "### 3.1.2 Validation  Set"
   ]
  },
  {
   "cell_type": "code",
   "execution_count": 10,
   "id": "acf2ca5a",
   "metadata": {},
   "outputs": [],
   "source": [
    "y_pred_knn_valid = knn_model.predict(x_valid)"
   ]
  },
  {
   "cell_type": "code",
   "execution_count": 11,
   "id": "dc0a832e",
   "metadata": {},
   "outputs": [
    {
     "data": {
      "text/plain": [
       "0.8030965698349332"
      ]
     },
     "execution_count": 11,
     "metadata": {},
     "output_type": "execute_result"
    }
   ],
   "source": [
    "f1_score(y_valid, y_pred_knn_valid, average='weighted')"
   ]
  },
  {
   "cell_type": "code",
   "execution_count": 12,
   "id": "6058917b",
   "metadata": {},
   "outputs": [
    {
     "data": {
      "text/plain": [
       "0.8143319538599235"
      ]
     },
     "execution_count": 12,
     "metadata": {},
     "output_type": "execute_result"
    }
   ],
   "source": [
    "precision_score(y_valid, y_pred_knn_valid, average='weighted')"
   ]
  },
  {
   "cell_type": "code",
   "execution_count": 13,
   "id": "4f8711e8",
   "metadata": {},
   "outputs": [
    {
     "data": {
      "text/plain": [
       "0.8029569207239358"
      ]
     },
     "execution_count": 13,
     "metadata": {},
     "output_type": "execute_result"
    }
   ],
   "source": [
    "recall_score(y_valid, y_pred_knn_valid, average='weighted')"
   ]
  },
  {
   "cell_type": "markdown",
   "id": "f08d39c4",
   "metadata": {},
   "source": [
    "### 3.1.3 Test Set"
   ]
  },
  {
   "cell_type": "code",
   "execution_count": 14,
   "id": "a10cf8b7",
   "metadata": {},
   "outputs": [],
   "source": [
    "y_pred_knn = knn_model.predict(x_test)"
   ]
  },
  {
   "cell_type": "code",
   "execution_count": 15,
   "id": "305679bd",
   "metadata": {},
   "outputs": [
    {
     "data": {
      "text/plain": [
       "0.6506679943311742"
      ]
     },
     "execution_count": 15,
     "metadata": {},
     "output_type": "execute_result"
    }
   ],
   "source": [
    "f1_score(y_test, y_pred_knn, average='weighted')"
   ]
  },
  {
   "cell_type": "code",
   "execution_count": 16,
   "id": "86e4c4cd",
   "metadata": {},
   "outputs": [
    {
     "data": {
      "text/plain": [
       "0.6671480762517079"
      ]
     },
     "execution_count": 16,
     "metadata": {},
     "output_type": "execute_result"
    }
   ],
   "source": [
    "precision_score(y_test, y_pred_knn, average='weighted')"
   ]
  },
  {
   "cell_type": "code",
   "execution_count": 17,
   "id": "654c2cdf",
   "metadata": {},
   "outputs": [
    {
     "data": {
      "text/plain": [
       "0.6504877468474899"
      ]
     },
     "execution_count": 17,
     "metadata": {},
     "output_type": "execute_result"
    }
   ],
   "source": [
    "recall_score(y_test, y_pred_knn, average='weighted')"
   ]
  },
  {
   "cell_type": "markdown",
   "id": "04bd91b2",
   "metadata": {},
   "source": [
    "-------------------------------------------------------------------------"
   ]
  },
  {
   "cell_type": "markdown",
   "id": "e72fdbcf",
   "metadata": {},
   "source": [
    "## 3.2 Multinomial NB <a class=\"anchor\" id=\"3.2\"></a>"
   ]
  },
  {
   "cell_type": "markdown",
   "id": "4669e8e8",
   "metadata": {},
   "source": [
    "### 3.2.1 Training Set"
   ]
  },
  {
   "cell_type": "code",
   "execution_count": 18,
   "id": "acecfe9b",
   "metadata": {},
   "outputs": [
    {
     "data": {
      "text/plain": [
       "MultinomialNB()"
      ]
     },
     "execution_count": 18,
     "metadata": {},
     "output_type": "execute_result"
    }
   ],
   "source": [
    "nb = MultinomialNB()\n",
    "nb.fit(x_train, y_train)"
   ]
  },
  {
   "cell_type": "code",
   "execution_count": 19,
   "id": "82c81e11",
   "metadata": {},
   "outputs": [
    {
     "name": "stdout",
     "output_type": "stream",
     "text": [
      "Training Accuracy: 88.20%\n",
      "Valid set accuracy: 88.10%\n",
      "Test set accuracy: 76.98%\n"
     ]
    }
   ],
   "source": [
    "print(f'Training Accuracy: {nb.score(x_train, y_train)*100:.2f}%')\n",
    "print(f'Valid set accuracy: {nb.score(x_valid, y_valid)*100:.2f}%')\n",
    "print(f'Test set accuracy: {nb.score(x_test, y_test)*100:.2f}%')"
   ]
  },
  {
   "cell_type": "code",
   "execution_count": 20,
   "id": "2742fd87",
   "metadata": {},
   "outputs": [
    {
     "data": {
      "text/plain": [
       "0.8819600244748114"
      ]
     },
     "execution_count": 20,
     "metadata": {},
     "output_type": "execute_result"
    }
   ],
   "source": [
    "nb.score(x_train, y_train)"
   ]
  },
  {
   "cell_type": "markdown",
   "id": "3aa13e59",
   "metadata": {},
   "source": [
    "### 3.2.2 Validation Set"
   ]
  },
  {
   "cell_type": "code",
   "execution_count": 21,
   "id": "33773b33",
   "metadata": {},
   "outputs": [
    {
     "data": {
      "text/plain": [
       "0.8809584501656895"
      ]
     },
     "execution_count": 21,
     "metadata": {},
     "output_type": "execute_result"
    }
   ],
   "source": [
    "nb.score(x_valid, y_valid)"
   ]
  },
  {
   "cell_type": "code",
   "execution_count": 22,
   "id": "01702e76",
   "metadata": {},
   "outputs": [],
   "source": [
    "y_pred_nb_valid = nb.predict(x_valid)"
   ]
  },
  {
   "cell_type": "code",
   "execution_count": 23,
   "id": "b3c61a43",
   "metadata": {},
   "outputs": [
    {
     "data": {
      "text/plain": [
       "0.8809324287424846"
      ]
     },
     "execution_count": 23,
     "metadata": {},
     "output_type": "execute_result"
    }
   ],
   "source": [
    "f1_score(y_valid, y_pred_nb_valid, average='weighted')"
   ]
  },
  {
   "cell_type": "code",
   "execution_count": 24,
   "id": "aa258ee8",
   "metadata": {},
   "outputs": [
    {
     "data": {
      "text/plain": [
       "0.8820583630491844"
      ]
     },
     "execution_count": 24,
     "metadata": {},
     "output_type": "execute_result"
    }
   ],
   "source": [
    "precision_score(y_valid, y_pred_nb_valid, average='weighted')"
   ]
  },
  {
   "cell_type": "code",
   "execution_count": 25,
   "id": "7ffa5afa",
   "metadata": {},
   "outputs": [
    {
     "data": {
      "text/plain": [
       "0.8809584501656895"
      ]
     },
     "execution_count": 25,
     "metadata": {},
     "output_type": "execute_result"
    }
   ],
   "source": [
    "recall_score(y_valid, y_pred_nb_valid, average='weighted')"
   ]
  },
  {
   "cell_type": "markdown",
   "id": "83951019",
   "metadata": {},
   "source": [
    "### 3.2.3 Test Set"
   ]
  },
  {
   "cell_type": "code",
   "execution_count": 26,
   "id": "0db8fce3",
   "metadata": {},
   "outputs": [
    {
     "data": {
      "text/plain": [
       "0.7698072805139187"
      ]
     },
     "execution_count": 26,
     "metadata": {},
     "output_type": "execute_result"
    }
   ],
   "source": [
    "nb.score(x_test, y_test)"
   ]
  },
  {
   "cell_type": "code",
   "execution_count": 27,
   "id": "bcfe8db0",
   "metadata": {},
   "outputs": [],
   "source": [
    "y_pred_nb = nb.predict(x_test)"
   ]
  },
  {
   "cell_type": "code",
   "execution_count": 28,
   "id": "b9465e43",
   "metadata": {},
   "outputs": [
    {
     "data": {
      "text/plain": [
       "0.7698307579760778"
      ]
     },
     "execution_count": 28,
     "metadata": {},
     "output_type": "execute_result"
    }
   ],
   "source": [
    "f1_score(y_test, y_pred_nb, average='weighted')"
   ]
  },
  {
   "cell_type": "code",
   "execution_count": 29,
   "id": "a55e8edf",
   "metadata": {},
   "outputs": [
    {
     "data": {
      "text/plain": [
       "0.770883973032243"
      ]
     },
     "execution_count": 29,
     "metadata": {},
     "output_type": "execute_result"
    }
   ],
   "source": [
    "precision_score(y_test, y_pred_nb, average='weighted')"
   ]
  },
  {
   "cell_type": "code",
   "execution_count": 30,
   "id": "fd0c8749",
   "metadata": {},
   "outputs": [
    {
     "data": {
      "text/plain": [
       "0.7698072805139187"
      ]
     },
     "execution_count": 30,
     "metadata": {},
     "output_type": "execute_result"
    }
   ],
   "source": [
    "recall_score(y_test, y_pred_nb, average='weighted')"
   ]
  },
  {
   "cell_type": "markdown",
   "id": "9ac147cf",
   "metadata": {},
   "source": [
    "------------------------------------------------------------------------------------------------------------------------------------"
   ]
  },
  {
   "cell_type": "markdown",
   "id": "54d55008",
   "metadata": {},
   "source": [
    "## 3.3 RandomForestClassifier <a class=\"anchor\" id=\"3.3\"></a>"
   ]
  },
  {
   "cell_type": "code",
   "execution_count": 31,
   "id": "8c60b8f9",
   "metadata": {},
   "outputs": [
    {
     "data": {
      "text/plain": [
       "RandomForestClassifier(random_state=1)"
      ]
     },
     "execution_count": 31,
     "metadata": {},
     "output_type": "execute_result"
    }
   ],
   "source": [
    "forest = RandomForestClassifier(n_estimators=100,\n",
    "                                random_state=1)\n",
    "forest.fit(x_train, y_train)"
   ]
  },
  {
   "cell_type": "markdown",
   "id": "fe2af92c",
   "metadata": {},
   "source": [
    "### 3.3.1 Training Set"
   ]
  },
  {
   "cell_type": "code",
   "execution_count": 32,
   "id": "65eb579e",
   "metadata": {},
   "outputs": [
    {
     "name": "stdout",
     "output_type": "stream",
     "text": [
      "Training Accuracy: 99.56%\n",
      "Valid set accuracy: 99.75%\n",
      "Test set accuracy: 73.59%\n"
     ]
    }
   ],
   "source": [
    "print(f'Training Accuracy: {forest.score(x_train, y_train)*100:.2f}%')\n",
    "print(f'Valid set accuracy: {forest.score(x_valid, y_valid)*100:.2f}%')\n",
    "print(f'Test set accuracy: {forest.score(x_test, y_test)*100:.2f}%')"
   ]
  },
  {
   "cell_type": "markdown",
   "id": "0a0267bf",
   "metadata": {},
   "source": [
    "### 3.3.2 Validation Set"
   ]
  },
  {
   "cell_type": "code",
   "execution_count": 33,
   "id": "a8af8430",
   "metadata": {},
   "outputs": [],
   "source": [
    "y_pred_forest_valid = forest.predict(x_valid)"
   ]
  },
  {
   "cell_type": "code",
   "execution_count": 34,
   "id": "c3314adb",
   "metadata": {},
   "outputs": [
    {
     "data": {
      "text/plain": [
       "0.9974492048361288"
      ]
     },
     "execution_count": 34,
     "metadata": {},
     "output_type": "execute_result"
    }
   ],
   "source": [
    "f1_score(y_valid, y_pred_forest_valid, average='weighted')"
   ]
  },
  {
   "cell_type": "code",
   "execution_count": 35,
   "id": "9e1bcaaf",
   "metadata": {},
   "outputs": [
    {
     "data": {
      "text/plain": [
       "0.997450653542024"
      ]
     },
     "execution_count": 35,
     "metadata": {},
     "output_type": "execute_result"
    }
   ],
   "source": [
    "precision_score(y_valid, y_pred_forest_valid, average='weighted')"
   ]
  },
  {
   "cell_type": "code",
   "execution_count": 36,
   "id": "cb5edd38",
   "metadata": {},
   "outputs": [
    {
     "data": {
      "text/plain": [
       "0.9974509304104002"
      ]
     },
     "execution_count": 36,
     "metadata": {},
     "output_type": "execute_result"
    }
   ],
   "source": [
    "recall_score(y_valid, y_pred_forest_valid, average='weighted')"
   ]
  },
  {
   "cell_type": "markdown",
   "id": "f76ff691",
   "metadata": {},
   "source": [
    "### 3.3.3 Test Set"
   ]
  },
  {
   "cell_type": "code",
   "execution_count": 37,
   "id": "029128c7",
   "metadata": {},
   "outputs": [],
   "source": [
    "y_pred_forest = forest.predict(x_test)"
   ]
  },
  {
   "cell_type": "code",
   "execution_count": 38,
   "id": "a4636f30",
   "metadata": {},
   "outputs": [
    {
     "data": {
      "text/plain": [
       "0.7370416119770092"
      ]
     },
     "execution_count": 38,
     "metadata": {},
     "output_type": "execute_result"
    }
   ],
   "source": [
    "f1_score(y_test, y_pred_forest, average='weighted')"
   ]
  },
  {
   "cell_type": "code",
   "execution_count": 39,
   "id": "ef048b54",
   "metadata": {},
   "outputs": [
    {
     "data": {
      "text/plain": [
       "0.7487719566127018"
      ]
     },
     "execution_count": 39,
     "metadata": {},
     "output_type": "execute_result"
    }
   ],
   "source": [
    "precision_score(y_test, y_pred_forest, average='weighted')"
   ]
  },
  {
   "cell_type": "code",
   "execution_count": 40,
   "id": "ee29f91c",
   "metadata": {},
   "outputs": [
    {
     "data": {
      "text/plain": [
       "0.7359029264810849"
      ]
     },
     "execution_count": 40,
     "metadata": {},
     "output_type": "execute_result"
    }
   ],
   "source": [
    "recall_score(y_test, y_pred_forest, average='weighted')"
   ]
  },
  {
   "cell_type": "markdown",
   "id": "713affa9",
   "metadata": {},
   "source": [
    "----------------------------------------------------"
   ]
  },
  {
   "cell_type": "markdown",
   "id": "b9e32015",
   "metadata": {},
   "source": [
    "## 3.4 OneVsRestClassifier <a class=\"anchor\" id=\"3.4\"></a>"
   ]
  },
  {
   "cell_type": "code",
   "execution_count": 41,
   "id": "d94efb06",
   "metadata": {},
   "outputs": [],
   "source": [
    "ovr = OneVsRestClassifier(MultinomialNB())\n",
    "y_pred_ovr = ovr.fit(x_train, y_train).predict(x_test)"
   ]
  },
  {
   "cell_type": "markdown",
   "id": "2c8f805e",
   "metadata": {},
   "source": [
    "### 3.4.1 Training Set"
   ]
  },
  {
   "cell_type": "code",
   "execution_count": 42,
   "id": "3d8f4ce7",
   "metadata": {},
   "outputs": [
    {
     "name": "stdout",
     "output_type": "stream",
     "text": [
      "Training Accuracy: 88.93%\n",
      "Valid set accuracy: 88.81%\n",
      "Test set accuracy: 77.69%\n"
     ]
    }
   ],
   "source": [
    "print(f'Training Accuracy: {ovr.score(x_train, y_train)*100:.2f}%')\n",
    "print(f'Valid set accuracy: {ovr.score(x_valid, y_valid)*100:.2f}%')\n",
    "print(f'Test set accuracy: {ovr.score(x_test, y_test)*100:.2f}%')"
   ]
  },
  {
   "cell_type": "markdown",
   "id": "3773dacb",
   "metadata": {},
   "source": [
    "### 3.4.2 Validation Set"
   ]
  },
  {
   "cell_type": "code",
   "execution_count": 43,
   "id": "3ba11398",
   "metadata": {},
   "outputs": [],
   "source": [
    "y_pred_ovr_valid = ovr.predict(x_valid)"
   ]
  },
  {
   "cell_type": "code",
   "execution_count": 44,
   "id": "5606f13c",
   "metadata": {},
   "outputs": [
    {
     "data": {
      "text/plain": [
       "0.8880958450165689"
      ]
     },
     "execution_count": 44,
     "metadata": {},
     "output_type": "execute_result"
    }
   ],
   "source": [
    "accuracy_score(y_valid, y_pred_ovr_valid)"
   ]
  },
  {
   "cell_type": "code",
   "execution_count": 45,
   "id": "824a2833",
   "metadata": {},
   "outputs": [
    {
     "data": {
      "text/plain": [
       "0.888767963965286"
      ]
     },
     "execution_count": 45,
     "metadata": {},
     "output_type": "execute_result"
    }
   ],
   "source": [
    "precision_score(y_valid, y_pred_ovr_valid, average='weighted')"
   ]
  },
  {
   "cell_type": "code",
   "execution_count": 46,
   "id": "5f95118b",
   "metadata": {},
   "outputs": [
    {
     "data": {
      "text/plain": [
       "0.8880958450165689"
      ]
     },
     "execution_count": 46,
     "metadata": {},
     "output_type": "execute_result"
    }
   ],
   "source": [
    "recall_score(y_valid, y_pred_ovr_valid, average='weighted')"
   ]
  },
  {
   "cell_type": "code",
   "execution_count": 47,
   "id": "7d0eb8c9",
   "metadata": {},
   "outputs": [
    {
     "data": {
      "text/plain": [
       "0.8880091145691023"
      ]
     },
     "execution_count": 47,
     "metadata": {},
     "output_type": "execute_result"
    }
   ],
   "source": [
    "f1_score(y_valid, y_pred_ovr_valid, average='weighted')"
   ]
  },
  {
   "cell_type": "markdown",
   "id": "d7ac9d59",
   "metadata": {},
   "source": [
    "### 3.4.3 Test Set"
   ]
  },
  {
   "cell_type": "code",
   "execution_count": 48,
   "id": "9016181c",
   "metadata": {},
   "outputs": [
    {
     "data": {
      "text/plain": [
       "0.7769450392576731"
      ]
     },
     "execution_count": 48,
     "metadata": {},
     "output_type": "execute_result"
    }
   ],
   "source": [
    "accuracy_score(y_test, y_pred_ovr)"
   ]
  },
  {
   "cell_type": "code",
   "execution_count": 49,
   "id": "d874789f",
   "metadata": {},
   "outputs": [
    {
     "data": {
      "text/plain": [
       "0.7768579896907817"
      ]
     },
     "execution_count": 49,
     "metadata": {},
     "output_type": "execute_result"
    }
   ],
   "source": [
    "f1_score(y_test, y_pred_ovr, average='weighted')"
   ]
  },
  {
   "cell_type": "code",
   "execution_count": 50,
   "id": "57f902d6",
   "metadata": {},
   "outputs": [
    {
     "data": {
      "text/plain": [
       "0.7775355762077373"
      ]
     },
     "execution_count": 50,
     "metadata": {},
     "output_type": "execute_result"
    }
   ],
   "source": [
    "precision_score(y_test, y_pred_ovr, average='weighted')"
   ]
  },
  {
   "cell_type": "code",
   "execution_count": 51,
   "id": "18c40256",
   "metadata": {},
   "outputs": [
    {
     "data": {
      "text/plain": [
       "0.7769450392576731"
      ]
     },
     "execution_count": 51,
     "metadata": {},
     "output_type": "execute_result"
    }
   ],
   "source": [
    "recall_score(y_test, y_pred_ovr, average='weighted')"
   ]
  },
  {
   "cell_type": "markdown",
   "id": "5eb2a1d3",
   "metadata": {},
   "source": [
    "---------------------------------------------"
   ]
  },
  {
   "cell_type": "markdown",
   "id": "3e7491c0",
   "metadata": {},
   "source": [
    "## 3.5 LinearSVC <a class=\"anchor\" id=\"3.5\"></a>"
   ]
  },
  {
   "cell_type": "code",
   "execution_count": 52,
   "id": "ad91cbf3",
   "metadata": {},
   "outputs": [],
   "source": [
    "clf = LinearSVC(random_state=0, tol=1e-5)\n",
    "LinearSVC_model = clf.fit(x_train, y_train)"
   ]
  },
  {
   "cell_type": "markdown",
   "id": "bcda2cb0",
   "metadata": {},
   "source": [
    "### 3.5.1 Training Set"
   ]
  },
  {
   "cell_type": "code",
   "execution_count": 53,
   "id": "77b6e807",
   "metadata": {},
   "outputs": [
    {
     "name": "stdout",
     "output_type": "stream",
     "text": [
      "Training Accuracy: 96.47%\n",
      "Valid set accuracy: 96.15%\n",
      "Test set accuracy: 78.33%\n"
     ]
    }
   ],
   "source": [
    "print(f'Training Accuracy: {LinearSVC_model.score(x_train, y_train)*100:.2f}%')\n",
    "print(f'Valid set accuracy: {LinearSVC_model.score(x_valid, y_valid)*100:.2f}%')\n",
    "print(f'Test set accuracy: {LinearSVC_model.score(x_test, y_test)*100:.2f}%')"
   ]
  },
  {
   "cell_type": "markdown",
   "id": "664ba416",
   "metadata": {},
   "source": [
    "### 3.5.2 Validation Set"
   ]
  },
  {
   "cell_type": "code",
   "execution_count": 54,
   "id": "55d771da",
   "metadata": {},
   "outputs": [],
   "source": [
    "y_pred_clf_valid = LinearSVC_model.predict(x_valid)"
   ]
  },
  {
   "cell_type": "code",
   "execution_count": 55,
   "id": "0f06efec",
   "metadata": {},
   "outputs": [
    {
     "data": {
      "text/plain": [
       "0.961509049197043"
      ]
     },
     "execution_count": 55,
     "metadata": {},
     "output_type": "execute_result"
    }
   ],
   "source": [
    "accuracy_score(y_valid, y_pred_clf_valid)"
   ]
  },
  {
   "cell_type": "code",
   "execution_count": 56,
   "id": "7595794b",
   "metadata": {},
   "outputs": [
    {
     "data": {
      "text/plain": [
       "0.9614777036844301"
      ]
     },
     "execution_count": 56,
     "metadata": {},
     "output_type": "execute_result"
    }
   ],
   "source": [
    "f1_score(y_valid, y_pred_clf_valid, average='weighted')"
   ]
  },
  {
   "cell_type": "code",
   "execution_count": 57,
   "id": "f26ec901",
   "metadata": {},
   "outputs": [
    {
     "data": {
      "text/plain": [
       "0.9617215623182921"
      ]
     },
     "execution_count": 57,
     "metadata": {},
     "output_type": "execute_result"
    }
   ],
   "source": [
    "precision_score(y_valid, y_pred_clf_valid, average='weighted')"
   ]
  },
  {
   "cell_type": "code",
   "execution_count": 58,
   "id": "ca295545",
   "metadata": {},
   "outputs": [
    {
     "data": {
      "text/plain": [
       "0.961509049197043"
      ]
     },
     "execution_count": 58,
     "metadata": {},
     "output_type": "execute_result"
    }
   ],
   "source": [
    "recall_score(y_valid, y_pred_clf_valid, average='weighted')"
   ]
  },
  {
   "cell_type": "markdown",
   "id": "bc08f7ac",
   "metadata": {},
   "source": [
    "### 3.5.3 Test Set"
   ]
  },
  {
   "cell_type": "code",
   "execution_count": 59,
   "id": "d74d3ea6",
   "metadata": {},
   "outputs": [],
   "source": [
    "y_pred_clf = LinearSVC_model.predict(x_test)"
   ]
  },
  {
   "cell_type": "code",
   "execution_count": 60,
   "id": "a9dd70d2",
   "metadata": {},
   "outputs": [
    {
     "data": {
      "text/plain": [
       "0.7832500594813229"
      ]
     },
     "execution_count": 60,
     "metadata": {},
     "output_type": "execute_result"
    }
   ],
   "source": [
    "accuracy_score(y_test, y_pred_clf)"
   ]
  },
  {
   "cell_type": "code",
   "execution_count": 61,
   "id": "7a098181",
   "metadata": {},
   "outputs": [
    {
     "data": {
      "text/plain": [
       "0.7832518750023001"
      ]
     },
     "execution_count": 61,
     "metadata": {},
     "output_type": "execute_result"
    }
   ],
   "source": [
    "f1_score(y_test, y_pred_clf, average='weighted')"
   ]
  },
  {
   "cell_type": "code",
   "execution_count": 62,
   "id": "94d6c580",
   "metadata": {},
   "outputs": [
    {
     "data": {
      "text/plain": [
       "0.7837042491455734"
      ]
     },
     "execution_count": 62,
     "metadata": {},
     "output_type": "execute_result"
    }
   ],
   "source": [
    "precision_score(y_test, y_pred_clf, average='weighted')"
   ]
  },
  {
   "cell_type": "code",
   "execution_count": 63,
   "id": "bfcaa8f5",
   "metadata": {},
   "outputs": [
    {
     "data": {
      "text/plain": [
       "0.7832500594813229"
      ]
     },
     "execution_count": 63,
     "metadata": {},
     "output_type": "execute_result"
    }
   ],
   "source": [
    "recall_score(y_test, y_pred_clf, average='weighted')"
   ]
  },
  {
   "cell_type": "markdown",
   "id": "2715474a",
   "metadata": {},
   "source": [
    "-------------------------------------------"
   ]
  },
  {
   "cell_type": "markdown",
   "id": "8c148f26",
   "metadata": {},
   "source": [
    "## 3.6 StackingCVClassifier + GridSearchCV <a class=\"anchor\" id=\"3.6\"></a>"
   ]
  },
  {
   "cell_type": "code",
   "execution_count": 64,
   "id": "6af50803",
   "metadata": {},
   "outputs": [],
   "source": [
    "forest = RandomForestClassifier(n_estimators=100,\n",
    "                                random_state=123)\n",
    "\n",
    "boost = XGBClassifier(random_state=123, verbosity=0, use_label_encoder=False)\n",
    "\n",
    "metaclassifier = LogisticRegression(random_state=123, max_iter=1000)\n",
    "\n",
    "sclf = StackingCVClassifier(classifiers=[forest, boost], \n",
    "                            meta_classifier=metaclassifier, \n",
    "                            random_state=123)"
   ]
  },
  {
   "cell_type": "code",
   "execution_count": 65,
   "id": "a890c5cd",
   "metadata": {},
   "outputs": [
    {
     "name": "stdout",
     "output_type": "stream",
     "text": [
      "Fitting 2 folds for each of 8 candidates, totalling 16 fits\n",
      "[CV] END stackingcvclassifier__drop_proba_col=None, stackingcvclassifier__randomforestclassifier__n_estimators=10, stackingcvclassifier__use_probas=True, stackingcvclassifier__xgbclassifier__max_depth=4; total time=  48.9s\n",
      "[CV] END stackingcvclassifier__drop_proba_col=None, stackingcvclassifier__randomforestclassifier__n_estimators=10, stackingcvclassifier__use_probas=True, stackingcvclassifier__xgbclassifier__max_depth=4; total time=  56.2s\n",
      "[CV] END stackingcvclassifier__drop_proba_col=None, stackingcvclassifier__randomforestclassifier__n_estimators=10, stackingcvclassifier__use_probas=True, stackingcvclassifier__xgbclassifier__max_depth=6; total time= 1.1min\n",
      "[CV] END stackingcvclassifier__drop_proba_col=None, stackingcvclassifier__randomforestclassifier__n_estimators=10, stackingcvclassifier__use_probas=True, stackingcvclassifier__xgbclassifier__max_depth=6; total time= 1.3min\n",
      "[CV] END stackingcvclassifier__drop_proba_col=None, stackingcvclassifier__randomforestclassifier__n_estimators=10, stackingcvclassifier__use_probas=False, stackingcvclassifier__xgbclassifier__max_depth=4; total time=  53.8s\n",
      "[CV] END stackingcvclassifier__drop_proba_col=None, stackingcvclassifier__randomforestclassifier__n_estimators=10, stackingcvclassifier__use_probas=False, stackingcvclassifier__xgbclassifier__max_depth=4; total time=  55.1s\n",
      "[CV] END stackingcvclassifier__drop_proba_col=None, stackingcvclassifier__randomforestclassifier__n_estimators=10, stackingcvclassifier__use_probas=False, stackingcvclassifier__xgbclassifier__max_depth=6; total time= 1.3min\n",
      "[CV] END stackingcvclassifier__drop_proba_col=None, stackingcvclassifier__randomforestclassifier__n_estimators=10, stackingcvclassifier__use_probas=False, stackingcvclassifier__xgbclassifier__max_depth=6; total time= 1.5min\n",
      "[CV] END stackingcvclassifier__drop_proba_col=last, stackingcvclassifier__randomforestclassifier__n_estimators=10, stackingcvclassifier__use_probas=True, stackingcvclassifier__xgbclassifier__max_depth=4; total time=  56.8s\n",
      "[CV] END stackingcvclassifier__drop_proba_col=last, stackingcvclassifier__randomforestclassifier__n_estimators=10, stackingcvclassifier__use_probas=True, stackingcvclassifier__xgbclassifier__max_depth=4; total time=  57.9s\n",
      "[CV] END stackingcvclassifier__drop_proba_col=last, stackingcvclassifier__randomforestclassifier__n_estimators=10, stackingcvclassifier__use_probas=True, stackingcvclassifier__xgbclassifier__max_depth=6; total time= 1.1min\n",
      "[CV] END stackingcvclassifier__drop_proba_col=last, stackingcvclassifier__randomforestclassifier__n_estimators=10, stackingcvclassifier__use_probas=True, stackingcvclassifier__xgbclassifier__max_depth=6; total time= 1.2min\n",
      "[CV] END stackingcvclassifier__drop_proba_col=last, stackingcvclassifier__randomforestclassifier__n_estimators=10, stackingcvclassifier__use_probas=False, stackingcvclassifier__xgbclassifier__max_depth=4; total time= 1.0min\n",
      "[CV] END stackingcvclassifier__drop_proba_col=last, stackingcvclassifier__randomforestclassifier__n_estimators=10, stackingcvclassifier__use_probas=False, stackingcvclassifier__xgbclassifier__max_depth=4; total time=  54.8s\n",
      "[CV] END stackingcvclassifier__drop_proba_col=last, stackingcvclassifier__randomforestclassifier__n_estimators=10, stackingcvclassifier__use_probas=False, stackingcvclassifier__xgbclassifier__max_depth=6; total time= 1.1min\n",
      "[CV] END stackingcvclassifier__drop_proba_col=last, stackingcvclassifier__randomforestclassifier__n_estimators=10, stackingcvclassifier__use_probas=False, stackingcvclassifier__xgbclassifier__max_depth=6; total time= 1.1min\n"
     ]
    },
    {
     "data": {
      "text/plain": [
       "0.6905975933102182"
      ]
     },
     "execution_count": 65,
     "metadata": {},
     "output_type": "execute_result"
    }
   ],
   "source": [
    "pipe = make_pipeline(sclf)\n",
    "\n",
    "params =  {\n",
    "    'stackingcvclassifier__use_probas': [True, False],\n",
    "    'stackingcvclassifier__drop_proba_col': [None, 'last'],\n",
    "    'stackingcvclassifier__xgbclassifier__max_depth': [4, 6],\n",
    "    'stackingcvclassifier__randomforestclassifier__n_estimators': [10]\n",
    "}\n",
    "\n",
    "\n",
    "grid = GridSearchCV(estimator=pipe,\n",
    "                    param_grid=params,\n",
    "                    cv=2,\n",
    "                    n_jobs=1,\n",
    "                    verbose=2)\n",
    "\n",
    "#with parallel_backend('threading'):\n",
    "grid.fit(x_train, y_train)\n",
    "\n",
    "grid.best_score_"
   ]
  },
  {
   "cell_type": "markdown",
   "id": "eb3729b9",
   "metadata": {},
   "source": [
    "### 3.6.1 Training Set"
   ]
  },
  {
   "cell_type": "code",
   "execution_count": 66,
   "id": "34fb05ee",
   "metadata": {},
   "outputs": [
    {
     "name": "stdout",
     "output_type": "stream",
     "text": [
      "Train Accuracy: 96.27%\n",
      "Valid Accuracy: 96.69%\n",
      "Test Accuracy: 74.02%\n"
     ]
    }
   ],
   "source": [
    "print(f\"Train Accuracy: {grid.best_estimator_.score(x_train, y_train)*100:0.2f}%\")\n",
    "print(f\"Valid Accuracy: {grid.best_estimator_.score(x_valid, y_valid)*100:0.2f}%\")\n",
    "print(f\"Test Accuracy: {grid.best_estimator_.score(x_test, y_test)*100:0.2f}%\")"
   ]
  },
  {
   "cell_type": "markdown",
   "id": "3a7eb8ff",
   "metadata": {},
   "source": [
    "### 3.6.2 Validation Set"
   ]
  },
  {
   "cell_type": "code",
   "execution_count": 67,
   "id": "75d92bc2",
   "metadata": {},
   "outputs": [],
   "source": [
    "y_pred_grid_valid = grid.predict(x_valid)"
   ]
  },
  {
   "cell_type": "code",
   "execution_count": 68,
   "id": "fa623601",
   "metadata": {},
   "outputs": [
    {
     "data": {
      "text/plain": [
       "0.9667214971016279"
      ]
     },
     "execution_count": 68,
     "metadata": {},
     "output_type": "execute_result"
    }
   ],
   "source": [
    "f1_score(y_valid, y_pred_grid_valid, average='weighted')"
   ]
  },
  {
   "cell_type": "code",
   "execution_count": 69,
   "id": "d8a3399d",
   "metadata": {},
   "outputs": [
    {
     "data": {
      "text/plain": [
       "0.9670114254490513"
      ]
     },
     "execution_count": 69,
     "metadata": {},
     "output_type": "execute_result"
    }
   ],
   "source": [
    "precision_score(y_valid, y_pred_grid_valid, average='weighted')"
   ]
  },
  {
   "cell_type": "code",
   "execution_count": 70,
   "id": "7419563c",
   "metadata": {},
   "outputs": [
    {
     "data": {
      "text/plain": [
       "0.9668620953352026"
      ]
     },
     "execution_count": 70,
     "metadata": {},
     "output_type": "execute_result"
    }
   ],
   "source": [
    "recall_score(y_valid, y_pred_grid_valid, average='weighted')"
   ]
  },
  {
   "cell_type": "markdown",
   "id": "30e68574",
   "metadata": {},
   "source": [
    "### 3.6.3 Test Set"
   ]
  },
  {
   "cell_type": "code",
   "execution_count": 71,
   "id": "c8c48cda",
   "metadata": {},
   "outputs": [],
   "source": [
    "y_pred_grid = grid.predict(x_test)"
   ]
  },
  {
   "cell_type": "code",
   "execution_count": 72,
   "id": "c6257e18",
   "metadata": {},
   "outputs": [
    {
     "data": {
      "text/plain": [
       "0.7400521693603924"
      ]
     },
     "execution_count": 72,
     "metadata": {},
     "output_type": "execute_result"
    }
   ],
   "source": [
    "f1_score(y_test, y_pred_grid, average='weighted')"
   ]
  },
  {
   "cell_type": "code",
   "execution_count": 73,
   "id": "d9bdbb6a",
   "metadata": {},
   "outputs": [
    {
     "data": {
      "text/plain": [
       "0.7438740492017507"
      ]
     },
     "execution_count": 73,
     "metadata": {},
     "output_type": "execute_result"
    }
   ],
   "source": [
    "precision_score(y_test, y_pred_grid, average='weighted')"
   ]
  },
  {
   "cell_type": "code",
   "execution_count": 74,
   "id": "06b31169",
   "metadata": {},
   "outputs": [
    {
     "data": {
      "text/plain": [
       "0.7401855817273376"
      ]
     },
     "execution_count": 74,
     "metadata": {},
     "output_type": "execute_result"
    }
   ],
   "source": [
    "recall_score(y_test, y_pred_grid, average='weighted')"
   ]
  },
  {
   "cell_type": "markdown",
   "id": "92181cf4",
   "metadata": {},
   "source": [
    "## 3.7 Decision Tree Classifier + Grid Search CV <a class=\"anchor\" id=\"3.7\"></a>"
   ]
  },
  {
   "cell_type": "code",
   "execution_count": 75,
   "id": "84377c90",
   "metadata": {},
   "outputs": [
    {
     "data": {
      "text/plain": [
       "GridSearchCV(cv=10, estimator=DecisionTreeClassifier(random_state=123),\n",
       "             param_grid={'criterion': ['gini', 'entropy'],\n",
       "                         'max_depth': [1, 2, 3, 4, 5, 10, 15, 20, None]},\n",
       "             scoring='accuracy')"
      ]
     },
     "execution_count": 75,
     "metadata": {},
     "output_type": "execute_result"
    }
   ],
   "source": [
    "tree = DecisionTreeClassifier(random_state=123)\n",
    "\n",
    "param_grid = {\n",
    "    'max_depth': [1, 2, 3, 4, 5, 10, 15, 20, None],\n",
    "    'criterion': ['gini', 'entropy']\n",
    "}\n",
    "\n",
    "gs = GridSearchCV(estimator=tree,\n",
    "                  param_grid=param_grid,\n",
    "                  scoring='accuracy',\n",
    "                  cv=10)\n",
    "\n",
    "gs.fit(x_train, y_train)"
   ]
  },
  {
   "cell_type": "markdown",
   "id": "e2285806",
   "metadata": {},
   "source": [
    "### 3.7.1 Training Set"
   ]
  },
  {
   "cell_type": "code",
   "execution_count": 76,
   "id": "6763ec75",
   "metadata": {},
   "outputs": [
    {
     "name": "stdout",
     "output_type": "stream",
     "text": [
      "Train Accuracy: 99.56%\n",
      "Valid Accuracy: 99.62%\n",
      "Test Accuracy: 67.93%\n"
     ]
    }
   ],
   "source": [
    "print(f\"Train Accuracy: {gs.best_estimator_.score(x_train, y_train)*100:0.2f}%\")\n",
    "print(f\"Valid Accuracy: {gs.best_estimator_.score(x_valid, y_valid)*100:0.2f}%\")\n",
    "print(f\"Test Accuracy: {gs.best_estimator_.score(x_test, y_test)*100:0.2f}%\")"
   ]
  },
  {
   "cell_type": "markdown",
   "id": "96511988",
   "metadata": {},
   "source": [
    "### 3.7.2 Validation Set"
   ]
  },
  {
   "cell_type": "code",
   "execution_count": 77,
   "id": "8b7b423a",
   "metadata": {},
   "outputs": [],
   "source": [
    "y_pred_gs_valid = gs.predict(x_valid)"
   ]
  },
  {
   "cell_type": "code",
   "execution_count": 78,
   "id": "99e98e3b",
   "metadata": {},
   "outputs": [
    {
     "data": {
      "text/plain": [
       "0.9961753981232394"
      ]
     },
     "execution_count": 78,
     "metadata": {},
     "output_type": "execute_result"
    }
   ],
   "source": [
    "f1_score(y_valid, y_pred_gs_valid, average='weighted')"
   ]
  },
  {
   "cell_type": "code",
   "execution_count": 79,
   "id": "95c25b00",
   "metadata": {},
   "outputs": [
    {
     "data": {
      "text/plain": [
       "0.9961806071934198"
      ]
     },
     "execution_count": 79,
     "metadata": {},
     "output_type": "execute_result"
    }
   ],
   "source": [
    "precision_score(y_valid, y_pred_gs_valid, average='weighted')"
   ]
  },
  {
   "cell_type": "code",
   "execution_count": 80,
   "id": "dece0afe",
   "metadata": {},
   "outputs": [
    {
     "data": {
      "text/plain": [
       "0.9961763956156003"
      ]
     },
     "execution_count": 80,
     "metadata": {},
     "output_type": "execute_result"
    }
   ],
   "source": [
    "recall_score(y_valid, y_pred_gs_valid, average='weighted')"
   ]
  },
  {
   "cell_type": "markdown",
   "id": "7b245e30",
   "metadata": {},
   "source": [
    "### 3.7.3 Test Set"
   ]
  },
  {
   "cell_type": "code",
   "execution_count": 81,
   "id": "b632973a",
   "metadata": {},
   "outputs": [],
   "source": [
    "y_pred_gs = gs.predict(x_test)"
   ]
  },
  {
   "cell_type": "code",
   "execution_count": 82,
   "id": "ef52d640",
   "metadata": {},
   "outputs": [
    {
     "data": {
      "text/plain": [
       "0.6791098537580611"
      ]
     },
     "execution_count": 82,
     "metadata": {},
     "output_type": "execute_result"
    }
   ],
   "source": [
    "f1_score(y_test, y_pred_gs, average='weighted')"
   ]
  },
  {
   "cell_type": "code",
   "execution_count": 83,
   "id": "64448739",
   "metadata": {},
   "outputs": [
    {
     "data": {
      "text/plain": [
       "0.6844797235316151"
      ]
     },
     "execution_count": 83,
     "metadata": {},
     "output_type": "execute_result"
    }
   ],
   "source": [
    "precision_score(y_test, y_pred_gs, average='weighted')"
   ]
  },
  {
   "cell_type": "code",
   "execution_count": 84,
   "id": "181ee398",
   "metadata": {},
   "outputs": [
    {
     "data": {
      "text/plain": [
       "0.6792767071139663"
      ]
     },
     "execution_count": 84,
     "metadata": {},
     "output_type": "execute_result"
    }
   ],
   "source": [
    "recall_score(y_test, y_pred_gs, average='weighted')"
   ]
  }
 ],
 "metadata": {
  "kernelspec": {
   "display_name": "Python 3",
   "language": "python",
   "name": "python3"
  },
  "language_info": {
   "codemirror_mode": {
    "name": "ipython",
    "version": 3
   },
   "file_extension": ".py",
   "mimetype": "text/x-python",
   "name": "python",
   "nbconvert_exporter": "python",
   "pygments_lexer": "ipython3",
   "version": "3.8.8"
  }
 },
 "nbformat": 4,
 "nbformat_minor": 5
}
