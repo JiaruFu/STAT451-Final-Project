{
 "cells": [
  {
   "cell_type": "markdown",
   "id": "f29cd126",
   "metadata": {},
   "source": [
    "# Machine Learning Models (Using `headline`)"
   ]
  },
  {
   "cell_type": "markdown",
   "id": "ff2e8852",
   "metadata": {},
   "source": [
    "### Table of Content\n",
    "\n",
    "* [1 Python Setup](#1)\n",
    "* [2 Data Visulation](#2)\n",
    "    * [2.1 Data Cleaning](#2.1)\n",
    "* [3 Model Fitting](#3)\n",
    "    * [3.1 K-Nearest-Neighbors Classifier](#3.1)\n",
    "    * [3.2 Multinomial NB](#3.2)\n",
    "    * [3.3 RandomForestClassifier](#3.3)\n",
    "    * [3.4 OneVsRestClassifier ](#3.4)\n",
    "    * [3.5 LinearSVC](#3.5)\n",
    "    * [3.6 StackingCVClassifier + GridSearchCV](#3.6)\n",
    "    * [3.7 Decision Tree Classifier + Grid Search CV](#3.7)"
   ]
  },
  {
   "cell_type": "markdown",
   "id": "a2cf4c29",
   "metadata": {},
   "source": [
    "## 1 Python Setup <a class=\"anchor\" id=\"1\"></a>"
   ]
  },
  {
   "cell_type": "code",
   "execution_count": 1,
   "id": "1d52e2f5",
   "metadata": {},
   "outputs": [],
   "source": [
    "import re\n",
    "import random\n",
    "import numpy as np\n",
    "import pandas as pd\n",
    "from sklearn.feature_extraction.text import TfidfTransformer\n",
    "from sklearn.ensemble import RandomForestClassifier\n",
    "from sklearn.naive_bayes import MultinomialNB\n",
    "from sklearn.model_selection import train_test_split\n",
    "from sklearn.feature_extraction.text import CountVectorizer\n",
    "from sklearn.preprocessing import LabelEncoder\n",
    "from sklearn.pipeline import Pipeline\n",
    "from sklearn.feature_extraction.text import TfidfTransformer\n",
    "from sklearn.multiclass import OneVsRestClassifier\n",
    "from sklearn.svm import LinearSVC\n",
    "from sklearn.preprocessing import StandardScaler\n",
    "from nltk.tokenize import word_tokenize\n",
    "from nltk.corpus import stopwords\n",
    "from xgboost import XGBClassifier\n",
    "from mlxtend.classifier import StackingCVClassifier\n",
    "from sklearn.linear_model import LogisticRegression\n",
    "from sklearn.model_selection import GridSearchCV\n",
    "from sklearn.pipeline import make_pipeline\n",
    "from sklearn.tree import DecisionTreeClassifier\n",
    "from sklearn.neighbors import KNeighborsClassifier\n",
    "from sklearn.metrics import accuracy_score\n",
    "from sklearn.metrics import f1_score\n",
    "from sklearn.metrics import precision_score\n",
    "from sklearn.metrics import recall_score"
   ]
  },
  {
   "cell_type": "markdown",
   "id": "a9809fb9",
   "metadata": {},
   "source": [
    "---------------------------------------------------------------------------------------------------------------------------------------"
   ]
  },
  {
   "cell_type": "markdown",
   "id": "82485bab",
   "metadata": {},
   "source": [
    "## 2 Data Visualization <a class=\"anchor\" id=\"2\"></a>"
   ]
  },
  {
   "cell_type": "code",
   "execution_count": 2,
   "id": "6f4b8228",
   "metadata": {},
   "outputs": [],
   "source": [
    "random.seed(123)\n",
    "news = pd.read_csv('final_news_df.csv')\n",
    "news = news.dropna()"
   ]
  },
  {
   "cell_type": "code",
   "execution_count": 3,
   "id": "ea56d719",
   "metadata": {
    "scrolled": true
   },
   "outputs": [
    {
     "data": {
      "text/html": [
       "<div>\n",
       "<style scoped>\n",
       "    .dataframe tbody tr th:only-of-type {\n",
       "        vertical-align: middle;\n",
       "    }\n",
       "\n",
       "    .dataframe tbody tr th {\n",
       "        vertical-align: top;\n",
       "    }\n",
       "\n",
       "    .dataframe thead th {\n",
       "        text-align: right;\n",
       "    }\n",
       "</style>\n",
       "<table border=\"1\" class=\"dataframe\">\n",
       "  <thead>\n",
       "    <tr style=\"text-align: right;\">\n",
       "      <th></th>\n",
       "      <th>category</th>\n",
       "      <th>headline</th>\n",
       "      <th>short_description</th>\n",
       "      <th>date</th>\n",
       "      <th>keywords</th>\n",
       "    </tr>\n",
       "  </thead>\n",
       "  <tbody>\n",
       "    <tr>\n",
       "      <th>1</th>\n",
       "      <td>BUSINESS</td>\n",
       "      <td>Investment Crowdfunding Draws a Crowd</td>\n",
       "      <td>It's getting crowded in the investment crowdfu...</td>\n",
       "      <td>2015-03-02</td>\n",
       "      <td>investment-crowdfunding-draw</td>\n",
       "    </tr>\n",
       "    <tr>\n",
       "      <th>2</th>\n",
       "      <td>BUSINESS</td>\n",
       "      <td>Office Romances Often Sparked By Emoticon-Lace...</td>\n",
       "      <td>But even though they might literally be sendin...</td>\n",
       "      <td>2012-08-26</td>\n",
       "      <td>office-romances-emoticons</td>\n",
       "    </tr>\n",
       "    <tr>\n",
       "      <th>3</th>\n",
       "      <td>BUSINESS</td>\n",
       "      <td>Verizon Could Buy Yahoo In The Next Few Days</td>\n",
       "      <td>A deal could be coming soon.</td>\n",
       "      <td>2016-07-22</td>\n",
       "      <td>verizon-could-buy-yahoo-next-few-days</td>\n",
       "    </tr>\n",
       "    <tr>\n",
       "      <th>4</th>\n",
       "      <td>BUSINESS</td>\n",
       "      <td>What's Your Meeting Brand?</td>\n",
       "      <td>Many leaders operate as if their meeting brand...</td>\n",
       "      <td>2014-06-11</td>\n",
       "      <td>whats-your-meeting-brand</td>\n",
       "    </tr>\n",
       "    <tr>\n",
       "      <th>5</th>\n",
       "      <td>BUSINESS</td>\n",
       "      <td>Feds OK Charter And Time Warner Mega Merger</td>\n",
       "      <td>The deal, which still needs FCC approval, woul...</td>\n",
       "      <td>2016-04-25</td>\n",
       "      <td>charter-time-warner-cable-takeover</td>\n",
       "    </tr>\n",
       "  </tbody>\n",
       "</table>\n",
       "</div>"
      ],
      "text/plain": [
       "   category                                           headline  \\\n",
       "1  BUSINESS              Investment Crowdfunding Draws a Crowd   \n",
       "2  BUSINESS  Office Romances Often Sparked By Emoticon-Lace...   \n",
       "3  BUSINESS       Verizon Could Buy Yahoo In The Next Few Days   \n",
       "4  BUSINESS                         What's Your Meeting Brand?   \n",
       "5  BUSINESS        Feds OK Charter And Time Warner Mega Merger   \n",
       "\n",
       "                                   short_description        date  \\\n",
       "1  It's getting crowded in the investment crowdfu...  2015-03-02   \n",
       "2  But even though they might literally be sendin...  2012-08-26   \n",
       "3                       A deal could be coming soon.  2016-07-22   \n",
       "4  Many leaders operate as if their meeting brand...  2014-06-11   \n",
       "5  The deal, which still needs FCC approval, woul...  2016-04-25   \n",
       "\n",
       "                                keywords  \n",
       "1           investment-crowdfunding-draw  \n",
       "2              office-romances-emoticons  \n",
       "3  verizon-could-buy-yahoo-next-few-days  \n",
       "4               whats-your-meeting-brand  \n",
       "5     charter-time-warner-cable-takeover  "
      ]
     },
     "execution_count": 3,
     "metadata": {},
     "output_type": "execute_result"
    }
   ],
   "source": [
    "news.head() # sanpshot of the dataset before cleaning"
   ]
  },
  {
   "cell_type": "markdown",
   "id": "56c1ac55",
   "metadata": {},
   "source": [
    "### 2.1 Data Cleaning <a class=\"anchor\" id=\"2.1\"></a>"
   ]
  },
  {
   "cell_type": "code",
   "execution_count": 4,
   "id": "8044d088",
   "metadata": {},
   "outputs": [],
   "source": [
    "def remove_sign(text):\n",
    "    pattern = r'[,:!?.\\/\\|\\*\\(\\)\\\"]'\n",
    "    text=re.sub(pattern,' ',text)\n",
    "    text = re.sub('[^a-zA-Z]',\" \" ,text)\n",
    "    return text\n",
    "\n",
    "news['text'] = news['headline'].apply(remove_sign)\n",
    "\n",
    "def remove_stop_words(text):\n",
    "    tokens = word_tokenize(text)\n",
    "    words = [word.lower() for word in tokens if word.isalpha()]\n",
    "    stop_words = set(stopwords.words('english'))\n",
    "    words = [word for word in words if not word in stop_words]\n",
    "    str1 = \" \".join(words)\n",
    "    return str1.strip()\n",
    "        \n",
    "news['text'] = news['text'].apply(remove_stop_words)"
   ]
  },
  {
   "cell_type": "code",
   "execution_count": 5,
   "id": "6bec45bc",
   "metadata": {},
   "outputs": [
    {
     "data": {
      "text/html": [
       "<div>\n",
       "<style scoped>\n",
       "    .dataframe tbody tr th:only-of-type {\n",
       "        vertical-align: middle;\n",
       "    }\n",
       "\n",
       "    .dataframe tbody tr th {\n",
       "        vertical-align: top;\n",
       "    }\n",
       "\n",
       "    .dataframe thead th {\n",
       "        text-align: right;\n",
       "    }\n",
       "</style>\n",
       "<table border=\"1\" class=\"dataframe\">\n",
       "  <thead>\n",
       "    <tr style=\"text-align: right;\">\n",
       "      <th></th>\n",
       "      <th>category</th>\n",
       "      <th>headline</th>\n",
       "      <th>short_description</th>\n",
       "      <th>date</th>\n",
       "      <th>keywords</th>\n",
       "      <th>text</th>\n",
       "    </tr>\n",
       "  </thead>\n",
       "  <tbody>\n",
       "    <tr>\n",
       "      <th>1</th>\n",
       "      <td>BUSINESS</td>\n",
       "      <td>Investment Crowdfunding Draws a Crowd</td>\n",
       "      <td>It's getting crowded in the investment crowdfu...</td>\n",
       "      <td>2015-03-02</td>\n",
       "      <td>investment-crowdfunding-draw</td>\n",
       "      <td>investment crowdfunding draws crowd</td>\n",
       "    </tr>\n",
       "    <tr>\n",
       "      <th>2</th>\n",
       "      <td>BUSINESS</td>\n",
       "      <td>Office Romances Often Sparked By Emoticon-Lace...</td>\n",
       "      <td>But even though they might literally be sendin...</td>\n",
       "      <td>2012-08-26</td>\n",
       "      <td>office-romances-emoticons</td>\n",
       "      <td>office romances often sparked emoticon laced e...</td>\n",
       "    </tr>\n",
       "    <tr>\n",
       "      <th>3</th>\n",
       "      <td>BUSINESS</td>\n",
       "      <td>Verizon Could Buy Yahoo In The Next Few Days</td>\n",
       "      <td>A deal could be coming soon.</td>\n",
       "      <td>2016-07-22</td>\n",
       "      <td>verizon-could-buy-yahoo-next-few-days</td>\n",
       "      <td>verizon could buy yahoo next days</td>\n",
       "    </tr>\n",
       "    <tr>\n",
       "      <th>4</th>\n",
       "      <td>BUSINESS</td>\n",
       "      <td>What's Your Meeting Brand?</td>\n",
       "      <td>Many leaders operate as if their meeting brand...</td>\n",
       "      <td>2014-06-11</td>\n",
       "      <td>whats-your-meeting-brand</td>\n",
       "      <td>meeting brand</td>\n",
       "    </tr>\n",
       "    <tr>\n",
       "      <th>5</th>\n",
       "      <td>BUSINESS</td>\n",
       "      <td>Feds OK Charter And Time Warner Mega Merger</td>\n",
       "      <td>The deal, which still needs FCC approval, woul...</td>\n",
       "      <td>2016-04-25</td>\n",
       "      <td>charter-time-warner-cable-takeover</td>\n",
       "      <td>feds ok charter time warner mega merger</td>\n",
       "    </tr>\n",
       "  </tbody>\n",
       "</table>\n",
       "</div>"
      ],
      "text/plain": [
       "   category                                           headline  \\\n",
       "1  BUSINESS              Investment Crowdfunding Draws a Crowd   \n",
       "2  BUSINESS  Office Romances Often Sparked By Emoticon-Lace...   \n",
       "3  BUSINESS       Verizon Could Buy Yahoo In The Next Few Days   \n",
       "4  BUSINESS                         What's Your Meeting Brand?   \n",
       "5  BUSINESS        Feds OK Charter And Time Warner Mega Merger   \n",
       "\n",
       "                                   short_description        date  \\\n",
       "1  It's getting crowded in the investment crowdfu...  2015-03-02   \n",
       "2  But even though they might literally be sendin...  2012-08-26   \n",
       "3                       A deal could be coming soon.  2016-07-22   \n",
       "4  Many leaders operate as if their meeting brand...  2014-06-11   \n",
       "5  The deal, which still needs FCC approval, woul...  2016-04-25   \n",
       "\n",
       "                                keywords  \\\n",
       "1           investment-crowdfunding-draw   \n",
       "2              office-romances-emoticons   \n",
       "3  verizon-could-buy-yahoo-next-few-days   \n",
       "4               whats-your-meeting-brand   \n",
       "5     charter-time-warner-cable-takeover   \n",
       "\n",
       "                                                text  \n",
       "1                investment crowdfunding draws crowd  \n",
       "2  office romances often sparked emoticon laced e...  \n",
       "3                  verizon could buy yahoo next days  \n",
       "4                                      meeting brand  \n",
       "5            feds ok charter time warner mega merger  "
      ]
     },
     "execution_count": 5,
     "metadata": {},
     "output_type": "execute_result"
    }
   ],
   "source": [
    "news.head()"
   ]
  },
  {
   "cell_type": "code",
   "execution_count": 6,
   "id": "c1e1edb7",
   "metadata": {},
   "outputs": [
    {
     "name": "stdout",
     "output_type": "stream",
     "text": [
      "Train/Valid/Test sizes: 15689 3923 8406\n"
     ]
    }
   ],
   "source": [
    "vectorizer = CountVectorizer()\n",
    "x = vectorizer.fit_transform(news['text'])\n",
    "tfidf_transformer = TfidfTransformer()\n",
    "X_train_tfidf = tfidf_transformer.fit_transform(x)\n",
    "\n",
    "encoder = LabelEncoder()\n",
    "y = encoder.fit_transform(news['category'])\n",
    "\n",
    "x_train, x_test, y_train, y_test = \\\n",
    "    train_test_split(X_train_tfidf, y, test_size=0.3, random_state=123, stratify=y)\n",
    "\n",
    "x_train_sub, x_valid, y_train_sub, y_valid = \\\n",
    "    train_test_split(x_train, y_train, test_size=0.2, random_state=123, stratify=y_train)\n",
    "\n",
    "print('Train/Valid/Test sizes:', y_train_sub.shape[0], y_valid.shape[0], y_test.shape[0])"
   ]
  },
  {
   "cell_type": "markdown",
   "id": "aadfb6a5",
   "metadata": {},
   "source": [
    "---------------------------------------------------------------------------------------------------------------------------------------"
   ]
  },
  {
   "cell_type": "markdown",
   "id": "9e800523",
   "metadata": {},
   "source": [
    "## 3 Model Fitting <a class=\"anchor\" id=\"3\"></a>"
   ]
  },
  {
   "cell_type": "markdown",
   "id": "b776b19d",
   "metadata": {},
   "source": [
    "## 3.1 K-Nearest-Neighbors Classifier <a class=\"anchor\" id=\"3.1\"></a>"
   ]
  },
  {
   "cell_type": "code",
   "execution_count": 7,
   "id": "4a838466",
   "metadata": {},
   "outputs": [
    {
     "data": {
      "text/plain": [
       "KNeighborsClassifier(n_neighbors=3)"
      ]
     },
     "execution_count": 7,
     "metadata": {},
     "output_type": "execute_result"
    }
   ],
   "source": [
    "knn_model = KNeighborsClassifier(n_neighbors=3)\n",
    "knn_model.fit(x_train_sub, y_train_sub)"
   ]
  },
  {
   "cell_type": "markdown",
   "id": "028d1b58",
   "metadata": {},
   "source": [
    "### 3.3.1 Training Set"
   ]
  },
  {
   "cell_type": "code",
   "execution_count": 8,
   "id": "0227db00",
   "metadata": {
    "scrolled": true
   },
   "outputs": [
    {
     "name": "stdout",
     "output_type": "stream",
     "text": [
      "Training Accuracy: 59.26%\n",
      "Test set accuracy: 30.16%\n",
      "Valid set accuracy: 30.92%\n"
     ]
    }
   ],
   "source": [
    "print(f'Training Accuracy: {knn_model.score(x_train, y_train)*100:.2f}%')\n",
    "print(f'Test set accuracy: {knn_model.score(x_test, y_test)*100:.2f}%')\n",
    "print(f'Valid set accuracy: {knn_model.score(x_valid, y_valid)*100:.2f}%')"
   ]
  },
  {
   "cell_type": "markdown",
   "id": "044d1e5e",
   "metadata": {},
   "source": [
    "### 3.1.2 Validation Set"
   ]
  },
  {
   "cell_type": "code",
   "execution_count": 9,
   "id": "8af2cab4",
   "metadata": {},
   "outputs": [],
   "source": [
    "y_pred_knn_valid = knn_model.predict(x_valid)"
   ]
  },
  {
   "cell_type": "code",
   "execution_count": 10,
   "id": "df28b3b2",
   "metadata": {},
   "outputs": [
    {
     "data": {
      "text/plain": [
       "0.27606652545707516"
      ]
     },
     "execution_count": 10,
     "metadata": {},
     "output_type": "execute_result"
    }
   ],
   "source": [
    "f1_score(y_valid, y_pred_knn_valid, average='weighted')"
   ]
  },
  {
   "cell_type": "code",
   "execution_count": 11,
   "id": "2422a5d5",
   "metadata": {
    "scrolled": true
   },
   "outputs": [
    {
     "data": {
      "text/plain": [
       "0.6661949061650427"
      ]
     },
     "execution_count": 11,
     "metadata": {},
     "output_type": "execute_result"
    }
   ],
   "source": [
    "precision_score(y_valid, y_pred_knn_valid, average='weighted')"
   ]
  },
  {
   "cell_type": "code",
   "execution_count": 12,
   "id": "d63c4874",
   "metadata": {},
   "outputs": [
    {
     "data": {
      "text/plain": [
       "0.30920214121845524"
      ]
     },
     "execution_count": 12,
     "metadata": {},
     "output_type": "execute_result"
    }
   ],
   "source": [
    "recall_score(y_valid, y_pred_knn_valid, average='weighted')"
   ]
  },
  {
   "cell_type": "markdown",
   "id": "cc2efa19",
   "metadata": {},
   "source": [
    "### 3.1.2 Test Set"
   ]
  },
  {
   "cell_type": "code",
   "execution_count": 13,
   "id": "392f37d9",
   "metadata": {},
   "outputs": [],
   "source": [
    "y_pred_knn = knn_model.predict(x_test)"
   ]
  },
  {
   "cell_type": "code",
   "execution_count": 14,
   "id": "34b6e59d",
   "metadata": {},
   "outputs": [
    {
     "data": {
      "text/plain": [
       "0.6823646076280551"
      ]
     },
     "execution_count": 14,
     "metadata": {},
     "output_type": "execute_result"
    }
   ],
   "source": [
    "precision_score(y_test, y_pred_knn, average='weighted')"
   ]
  },
  {
   "cell_type": "code",
   "execution_count": 15,
   "id": "a14c846d",
   "metadata": {},
   "outputs": [
    {
     "data": {
      "text/plain": [
       "0.30157030692362596"
      ]
     },
     "execution_count": 15,
     "metadata": {},
     "output_type": "execute_result"
    }
   ],
   "source": [
    "recall_score(y_test, y_pred_knn, average='weighted')"
   ]
  },
  {
   "cell_type": "code",
   "execution_count": 16,
   "id": "bf2956fa",
   "metadata": {},
   "outputs": [
    {
     "data": {
      "text/plain": [
       "0.2661809457802585"
      ]
     },
     "execution_count": 16,
     "metadata": {},
     "output_type": "execute_result"
    }
   ],
   "source": [
    "f1_score(y_test, y_pred_knn, average='weighted')"
   ]
  },
  {
   "cell_type": "markdown",
   "id": "fb4dc306",
   "metadata": {},
   "source": [
    "---------------------------------------------------------------------------------------------------------------------------------------"
   ]
  },
  {
   "cell_type": "markdown",
   "id": "14eff79d",
   "metadata": {},
   "source": [
    "## 3.2 Multinomial NB <a class=\"anchor\" id=\"3.2\"></a>"
   ]
  },
  {
   "cell_type": "markdown",
   "id": "edde0a5a",
   "metadata": {},
   "source": [
    "### 3.2.1 Trainning Set"
   ]
  },
  {
   "cell_type": "code",
   "execution_count": 17,
   "id": "8fa479e8",
   "metadata": {},
   "outputs": [
    {
     "data": {
      "text/plain": [
       "MultinomialNB()"
      ]
     },
     "execution_count": 17,
     "metadata": {},
     "output_type": "execute_result"
    }
   ],
   "source": [
    "nb = MultinomialNB()\n",
    "nb.fit(x_train_sub, y_train_sub)"
   ]
  },
  {
   "cell_type": "code",
   "execution_count": 18,
   "id": "8f247cd8",
   "metadata": {},
   "outputs": [
    {
     "name": "stdout",
     "output_type": "stream",
     "text": [
      "Training Accuracy: 87.87%\n",
      "Valid set accuracy: 77.72%\n",
      "Test set accuracy: 78.46%\n"
     ]
    }
   ],
   "source": [
    "print(f'Training Accuracy: {nb.score(x_train, y_train)*100:.2f}%')\n",
    "print(f'Valid set accuracy: {nb.score(x_valid, y_valid)*100:.2f}%')\n",
    "print(f'Test set accuracy: {nb.score(x_test, y_test)*100:.2f}%')"
   ]
  },
  {
   "cell_type": "markdown",
   "id": "7e5b8efb",
   "metadata": {},
   "source": [
    "### 3.2.2 Validation Set"
   ]
  },
  {
   "cell_type": "code",
   "execution_count": 19,
   "id": "2f3414af",
   "metadata": {},
   "outputs": [],
   "source": [
    "y_pred_nb_valid = nb.predict(x_valid)"
   ]
  },
  {
   "cell_type": "code",
   "execution_count": 20,
   "id": "9d914bd3",
   "metadata": {},
   "outputs": [
    {
     "data": {
      "text/plain": [
       "0.7753715649190562"
      ]
     },
     "execution_count": 20,
     "metadata": {},
     "output_type": "execute_result"
    }
   ],
   "source": [
    "# F1 score\n",
    "f1_score(y_valid, y_pred_nb_valid, average='weighted')"
   ]
  },
  {
   "cell_type": "code",
   "execution_count": 21,
   "id": "d9e31194",
   "metadata": {},
   "outputs": [
    {
     "data": {
      "text/plain": [
       "0.775284397773305"
      ]
     },
     "execution_count": 21,
     "metadata": {},
     "output_type": "execute_result"
    }
   ],
   "source": [
    "# Precision\n",
    "precision_score(y_valid, y_pred_nb_valid, average='weighted')"
   ]
  },
  {
   "cell_type": "code",
   "execution_count": 22,
   "id": "d0db7816",
   "metadata": {},
   "outputs": [
    {
     "data": {
      "text/plain": [
       "0.7772113178689778"
      ]
     },
     "execution_count": 22,
     "metadata": {},
     "output_type": "execute_result"
    }
   ],
   "source": [
    "# Recall\n",
    "recall_score(y_valid, y_pred_nb_valid, average='weighted')"
   ]
  },
  {
   "cell_type": "markdown",
   "id": "462c79ca",
   "metadata": {},
   "source": [
    "### 3.2.3 Test Set"
   ]
  },
  {
   "cell_type": "code",
   "execution_count": 23,
   "id": "c8793b94",
   "metadata": {},
   "outputs": [],
   "source": [
    "y_pred_nb = nb.predict(x_test)"
   ]
  },
  {
   "cell_type": "code",
   "execution_count": 24,
   "id": "e11bfc4c",
   "metadata": {},
   "outputs": [
    {
     "data": {
      "text/plain": [
       "0.7834895298775895"
      ]
     },
     "execution_count": 24,
     "metadata": {},
     "output_type": "execute_result"
    }
   ],
   "source": [
    "# F1 Score\n",
    "f1_score(y_test, y_pred_nb, average='weighted')"
   ]
  },
  {
   "cell_type": "code",
   "execution_count": 25,
   "id": "98f3ae02",
   "metadata": {},
   "outputs": [
    {
     "data": {
      "text/plain": [
       "0.7835947052109126"
      ]
     },
     "execution_count": 25,
     "metadata": {},
     "output_type": "execute_result"
    }
   ],
   "source": [
    "# Precision\n",
    "precision_score(y_test, y_pred_nb, average='weighted')"
   ]
  },
  {
   "cell_type": "code",
   "execution_count": 26,
   "id": "314cecb9",
   "metadata": {},
   "outputs": [
    {
     "data": {
      "text/plain": [
       "0.7845586485843445"
      ]
     },
     "execution_count": 26,
     "metadata": {},
     "output_type": "execute_result"
    }
   ],
   "source": [
    "# Recall\n",
    "recall_score(y_test, y_pred_nb, average='weighted')"
   ]
  },
  {
   "cell_type": "markdown",
   "id": "4de154ef",
   "metadata": {},
   "source": [
    "---------------------------------------------------------------------------------------------------------------------------------------"
   ]
  },
  {
   "cell_type": "markdown",
   "id": "b0a2064b",
   "metadata": {},
   "source": [
    "## 3.3 RandomForestClassifier <a class=\"anchor\" id=\"3.3\"></a>"
   ]
  },
  {
   "cell_type": "code",
   "execution_count": 27,
   "id": "55cd9ca2",
   "metadata": {},
   "outputs": [
    {
     "data": {
      "text/plain": [
       "RandomForestClassifier(n_estimators=50, random_state=1)"
      ]
     },
     "execution_count": 27,
     "metadata": {},
     "output_type": "execute_result"
    }
   ],
   "source": [
    "forest = RandomForestClassifier(n_estimators=50,\n",
    "                                random_state=1)\n",
    "forest.fit(x_train_sub, y_train_sub)"
   ]
  },
  {
   "cell_type": "markdown",
   "id": "1d64306b",
   "metadata": {},
   "source": [
    "### 3.3.1 Training Set"
   ]
  },
  {
   "cell_type": "code",
   "execution_count": 28,
   "id": "de40d2c5",
   "metadata": {},
   "outputs": [
    {
     "name": "stdout",
     "output_type": "stream",
     "text": [
      "Training Accuracy: 94.99%\n",
      "Valid set accuracy: 75.45%\n",
      "Test set accuracy: 75.57%\n"
     ]
    }
   ],
   "source": [
    "# Accuracy\n",
    "print(f'Training Accuracy: {forest.score(x_train, y_train)*100:.2f}%')\n",
    "print(f'Valid set accuracy: {forest.score(x_valid, y_valid)*100:.2f}%')\n",
    "print(f'Test set accuracy: {forest.score(x_test, y_test)*100:.2f}%')"
   ]
  },
  {
   "cell_type": "markdown",
   "id": "275fc919",
   "metadata": {},
   "source": [
    "### 3.3.2 Validation Set"
   ]
  },
  {
   "cell_type": "code",
   "execution_count": 29,
   "id": "b7973358",
   "metadata": {},
   "outputs": [],
   "source": [
    "y_pred_forest_valid = forest.predict(x_valid)"
   ]
  },
  {
   "cell_type": "code",
   "execution_count": 30,
   "id": "c83fdbf5",
   "metadata": {},
   "outputs": [
    {
     "data": {
      "text/plain": [
       "0.7560903724746849"
      ]
     },
     "execution_count": 30,
     "metadata": {},
     "output_type": "execute_result"
    }
   ],
   "source": [
    "# F1 score\n",
    "f1_score(y_valid, y_pred_forest_valid, average='weighted')"
   ]
  },
  {
   "cell_type": "code",
   "execution_count": 31,
   "id": "56ebaeb3",
   "metadata": {},
   "outputs": [
    {
     "data": {
      "text/plain": [
       "0.7599458906270985"
      ]
     },
     "execution_count": 31,
     "metadata": {},
     "output_type": "execute_result"
    }
   ],
   "source": [
    "# Precision\n",
    "precision_score(y_valid, y_pred_forest_valid, average='weighted')"
   ]
  },
  {
   "cell_type": "code",
   "execution_count": 32,
   "id": "0d8ab2c7",
   "metadata": {},
   "outputs": [
    {
     "data": {
      "text/plain": [
       "0.7545245985215396"
      ]
     },
     "execution_count": 32,
     "metadata": {},
     "output_type": "execute_result"
    }
   ],
   "source": [
    "# Recall\n",
    "recall_score(y_valid, y_pred_forest_valid, average='weighted')"
   ]
  },
  {
   "cell_type": "markdown",
   "id": "33361521",
   "metadata": {},
   "source": [
    "### 3.3.3 Test Set"
   ]
  },
  {
   "cell_type": "code",
   "execution_count": 33,
   "id": "a2ac272b",
   "metadata": {},
   "outputs": [],
   "source": [
    "y_pred_forest = forest.predict(x_test)"
   ]
  },
  {
   "cell_type": "code",
   "execution_count": 34,
   "id": "0cb62afb",
   "metadata": {},
   "outputs": [
    {
     "data": {
      "text/plain": [
       "0.7569112347328744"
      ]
     },
     "execution_count": 34,
     "metadata": {},
     "output_type": "execute_result"
    }
   ],
   "source": [
    "# F1 Score\n",
    "f1_score(y_test, y_pred_forest, average='weighted')"
   ]
  },
  {
   "cell_type": "code",
   "execution_count": 35,
   "id": "841299a6",
   "metadata": {},
   "outputs": [
    {
     "data": {
      "text/plain": [
       "0.7621355272203307"
      ]
     },
     "execution_count": 35,
     "metadata": {},
     "output_type": "execute_result"
    }
   ],
   "source": [
    "# Precision\n",
    "precision_score(y_test, y_pred_forest, average='weighted')"
   ]
  },
  {
   "cell_type": "code",
   "execution_count": 36,
   "id": "6cc82068",
   "metadata": {},
   "outputs": [
    {
     "data": {
      "text/plain": [
       "0.755650725672139"
      ]
     },
     "execution_count": 36,
     "metadata": {},
     "output_type": "execute_result"
    }
   ],
   "source": [
    "# Recall\n",
    "recall_score(y_test, y_pred_forest, average='weighted')"
   ]
  },
  {
   "cell_type": "markdown",
   "id": "2c54c8c6",
   "metadata": {},
   "source": [
    "---------------------------------------------------------------------------------------------------------------------------------------"
   ]
  },
  {
   "cell_type": "markdown",
   "id": "1667f6b6",
   "metadata": {},
   "source": [
    "## 3.4 OneVsRestClassifier <a class=\"anchor\" id=\"3.4\"></a>"
   ]
  },
  {
   "cell_type": "code",
   "execution_count": 37,
   "id": "4f17d5c1",
   "metadata": {},
   "outputs": [],
   "source": [
    "ovr = OneVsRestClassifier(MultinomialNB())\n",
    "y_pred_ovr = ovr.fit(x_train, y_train).predict(x_test)"
   ]
  },
  {
   "cell_type": "markdown",
   "id": "f86c9c98",
   "metadata": {},
   "source": [
    "### 3.4.1 Training Set"
   ]
  },
  {
   "cell_type": "code",
   "execution_count": 38,
   "id": "b8e1a121",
   "metadata": {},
   "outputs": [
    {
     "name": "stdout",
     "output_type": "stream",
     "text": [
      "Training Accuracy: 90.37%\n",
      "Valid set accuracy: 90.82%\n",
      "Test set accuracy: 79.47%\n"
     ]
    }
   ],
   "source": [
    "print(f'Training Accuracy: {ovr.score(x_train, y_train)*100:.2f}%')\n",
    "print(f'Valid set accuracy: {ovr.score(x_valid, y_valid)*100:.2f}%')\n",
    "print(f'Test set accuracy: {ovr.score(x_test, y_test)*100:.2f}%')"
   ]
  },
  {
   "cell_type": "markdown",
   "id": "5be36e2b",
   "metadata": {},
   "source": [
    "### 3.4.2 Validation Set"
   ]
  },
  {
   "cell_type": "code",
   "execution_count": 39,
   "id": "ba8285af",
   "metadata": {},
   "outputs": [],
   "source": [
    "y_pred_ovr_valid = ovr.predict(x_valid)"
   ]
  },
  {
   "cell_type": "code",
   "execution_count": 40,
   "id": "628d6b9d",
   "metadata": {},
   "outputs": [
    {
     "data": {
      "text/plain": [
       "0.9082334947744073"
      ]
     },
     "execution_count": 40,
     "metadata": {},
     "output_type": "execute_result"
    }
   ],
   "source": [
    "# Accuracy Verification\n",
    "accuracy_score(y_valid, y_pred_ovr_valid)"
   ]
  },
  {
   "cell_type": "code",
   "execution_count": 41,
   "id": "e0e72b4a",
   "metadata": {},
   "outputs": [
    {
     "data": {
      "text/plain": [
       "0.9076569062559122"
      ]
     },
     "execution_count": 41,
     "metadata": {},
     "output_type": "execute_result"
    }
   ],
   "source": [
    "# F1 Score\n",
    "f1_score(y_valid, y_pred_ovr_valid, average='weighted')"
   ]
  },
  {
   "cell_type": "code",
   "execution_count": 42,
   "id": "1c2fd0ef",
   "metadata": {},
   "outputs": [
    {
     "data": {
      "text/plain": [
       "0.9083366656046938"
      ]
     },
     "execution_count": 42,
     "metadata": {},
     "output_type": "execute_result"
    }
   ],
   "source": [
    "# Precision\n",
    "precision_score(y_valid, y_pred_ovr_valid, average='weighted')"
   ]
  },
  {
   "cell_type": "code",
   "execution_count": 43,
   "id": "150839f0",
   "metadata": {},
   "outputs": [
    {
     "data": {
      "text/plain": [
       "0.9082334947744073"
      ]
     },
     "execution_count": 43,
     "metadata": {},
     "output_type": "execute_result"
    }
   ],
   "source": [
    "# Recall\n",
    "recall_score(y_valid, y_pred_ovr_valid, average='weighted')"
   ]
  },
  {
   "cell_type": "markdown",
   "id": "7cada727",
   "metadata": {},
   "source": [
    "### 3.4.3 Test Set"
   ]
  },
  {
   "cell_type": "code",
   "execution_count": 44,
   "id": "9e1858cf",
   "metadata": {},
   "outputs": [
    {
     "data": {
      "text/plain": [
       "0.79467047347133"
      ]
     },
     "execution_count": 44,
     "metadata": {},
     "output_type": "execute_result"
    }
   ],
   "source": [
    "# Accuracy Verification\n",
    "accuracy_score(y_test, y_pred_ovr)"
   ]
  },
  {
   "cell_type": "code",
   "execution_count": 45,
   "id": "4938ac43",
   "metadata": {},
   "outputs": [
    {
     "data": {
      "text/plain": [
       "0.7935306082617217"
      ]
     },
     "execution_count": 45,
     "metadata": {},
     "output_type": "execute_result"
    }
   ],
   "source": [
    "# F1 Score\n",
    "f1_score(y_test, y_pred_ovr, average='weighted')"
   ]
  },
  {
   "cell_type": "code",
   "execution_count": 46,
   "id": "0984500a",
   "metadata": {},
   "outputs": [
    {
     "data": {
      "text/plain": [
       "0.79339859770077"
      ]
     },
     "execution_count": 46,
     "metadata": {},
     "output_type": "execute_result"
    }
   ],
   "source": [
    "# Precision\n",
    "precision_score(y_test, y_pred_ovr, average='weighted')"
   ]
  },
  {
   "cell_type": "code",
   "execution_count": 47,
   "id": "a1500722",
   "metadata": {},
   "outputs": [
    {
     "data": {
      "text/plain": [
       "0.79467047347133"
      ]
     },
     "execution_count": 47,
     "metadata": {},
     "output_type": "execute_result"
    }
   ],
   "source": [
    "# Recall\n",
    "recall_score(y_test, y_pred_ovr, average='weighted')"
   ]
  },
  {
   "cell_type": "markdown",
   "id": "7d5989ba",
   "metadata": {},
   "source": [
    "---------------------------------------------------------------------------------------------------------------------------------------"
   ]
  },
  {
   "cell_type": "markdown",
   "id": "5100c565",
   "metadata": {},
   "source": [
    "## 3.5 LinearSVC <a class=\"anchor\" id=\"3.5\"></a>"
   ]
  },
  {
   "cell_type": "code",
   "execution_count": 48,
   "id": "b8020760",
   "metadata": {},
   "outputs": [],
   "source": [
    "clf = LinearSVC(random_state=0, tol=1e-5)"
   ]
  },
  {
   "cell_type": "markdown",
   "id": "38d4d2b3",
   "metadata": {},
   "source": [
    "### 3.5.1 Training Set"
   ]
  },
  {
   "cell_type": "code",
   "execution_count": 49,
   "id": "98ed2823",
   "metadata": {},
   "outputs": [],
   "source": [
    "LinearSVC_model = clf.fit(x_train, y_train)"
   ]
  },
  {
   "cell_type": "code",
   "execution_count": 50,
   "id": "43e55e38",
   "metadata": {},
   "outputs": [
    {
     "name": "stdout",
     "output_type": "stream",
     "text": [
      "Training Accuracy: 97.69%\n",
      "Valid set accuracy: 97.45%\n",
      "Test set accuracy: 80.56%\n"
     ]
    }
   ],
   "source": [
    "print(f'Training Accuracy: {LinearSVC_model.score(x_train, y_train)*100:.2f}%')\n",
    "print(f'Valid set accuracy: {LinearSVC_model.score(x_valid, y_valid)*100:.2f}%')\n",
    "print(f'Test set accuracy: {LinearSVC_model.score(x_test, y_test)*100:.2f}%')"
   ]
  },
  {
   "cell_type": "markdown",
   "id": "b00a584c",
   "metadata": {},
   "source": [
    "### 3.5.2 Validation Set"
   ]
  },
  {
   "cell_type": "code",
   "execution_count": 51,
   "id": "15559c9f",
   "metadata": {},
   "outputs": [],
   "source": [
    "y_pred_clf_valid = LinearSVC_model.predict(x_valid)"
   ]
  },
  {
   "cell_type": "code",
   "execution_count": 52,
   "id": "d3802030",
   "metadata": {},
   "outputs": [
    {
     "data": {
      "text/plain": [
       "0.974509304104002"
      ]
     },
     "execution_count": 52,
     "metadata": {},
     "output_type": "execute_result"
    }
   ],
   "source": [
    "# Accuracy Verification\n",
    "accuracy_score(y_valid, y_pred_clf_valid)"
   ]
  },
  {
   "cell_type": "code",
   "execution_count": 53,
   "id": "f413b50f",
   "metadata": {},
   "outputs": [
    {
     "data": {
      "text/plain": [
       "0.9744733952827339"
      ]
     },
     "execution_count": 53,
     "metadata": {},
     "output_type": "execute_result"
    }
   ],
   "source": [
    "# F1 score\n",
    "f1_score(y_valid, y_pred_clf_valid, average='weighted')"
   ]
  },
  {
   "cell_type": "code",
   "execution_count": 54,
   "id": "e91cf6b5",
   "metadata": {},
   "outputs": [
    {
     "data": {
      "text/plain": [
       "0.9745175041902239"
      ]
     },
     "execution_count": 54,
     "metadata": {},
     "output_type": "execute_result"
    }
   ],
   "source": [
    "# Precision\n",
    "precision_score(y_valid, y_pred_clf_valid, average='weighted')"
   ]
  },
  {
   "cell_type": "code",
   "execution_count": 55,
   "id": "d63df31d",
   "metadata": {},
   "outputs": [
    {
     "data": {
      "text/plain": [
       "0.974509304104002"
      ]
     },
     "execution_count": 55,
     "metadata": {},
     "output_type": "execute_result"
    }
   ],
   "source": [
    "# Recall\n",
    "recall_score(y_valid, y_pred_clf_valid, average='weighted')"
   ]
  },
  {
   "cell_type": "markdown",
   "id": "65aaf21e",
   "metadata": {},
   "source": [
    "### 3.5.3 Test Set"
   ]
  },
  {
   "cell_type": "code",
   "execution_count": 56,
   "id": "56387a79",
   "metadata": {},
   "outputs": [],
   "source": [
    "y_pred_clf = LinearSVC_model.predict(x_test)"
   ]
  },
  {
   "cell_type": "code",
   "execution_count": 57,
   "id": "ff3e639b",
   "metadata": {},
   "outputs": [
    {
     "data": {
      "text/plain": [
       "0.8056150368784202"
      ]
     },
     "execution_count": 57,
     "metadata": {},
     "output_type": "execute_result"
    }
   ],
   "source": [
    "# Accuracy Verification\n",
    "accuracy_score(y_test, y_pred_clf)"
   ]
  },
  {
   "cell_type": "code",
   "execution_count": 58,
   "id": "49bd1ae3",
   "metadata": {
    "scrolled": true
   },
   "outputs": [
    {
     "data": {
      "text/plain": [
       "0.8058794154841358"
      ]
     },
     "execution_count": 58,
     "metadata": {},
     "output_type": "execute_result"
    }
   ],
   "source": [
    "# F1 Score\n",
    "f1_score(y_test, y_pred_clf, average='weighted')"
   ]
  },
  {
   "cell_type": "code",
   "execution_count": 59,
   "id": "8afeb2cc",
   "metadata": {},
   "outputs": [
    {
     "data": {
      "text/plain": [
       "0.8056150368784202"
      ]
     },
     "execution_count": 59,
     "metadata": {},
     "output_type": "execute_result"
    }
   ],
   "source": [
    "# Recall\n",
    "recall_score(y_test, y_pred_clf, average='weighted')"
   ]
  },
  {
   "cell_type": "code",
   "execution_count": 60,
   "id": "296b577e",
   "metadata": {},
   "outputs": [
    {
     "data": {
      "text/plain": [
       "0.8069298033141059"
      ]
     },
     "execution_count": 60,
     "metadata": {},
     "output_type": "execute_result"
    }
   ],
   "source": [
    "# Precision\n",
    "precision_score(y_test, y_pred_clf, average='weighted')"
   ]
  },
  {
   "cell_type": "markdown",
   "id": "46b8e1bf",
   "metadata": {},
   "source": [
    "---------------------------------------------------------------------------------------------------------------------------------------"
   ]
  },
  {
   "cell_type": "markdown",
   "id": "841ebfdb",
   "metadata": {},
   "source": [
    "## 3.6 StackingCVClassifier + GridSearchCV <a class=\"anchor\" id=\"3.6\"></a>"
   ]
  },
  {
   "cell_type": "code",
   "execution_count": 61,
   "id": "0087d0fc",
   "metadata": {},
   "outputs": [],
   "source": [
    "forest = RandomForestClassifier(n_estimators=100,\n",
    "                                random_state=123)\n",
    "\n",
    "boost = XGBClassifier(random_state=123, verbosity=0, use_label_encoder=False)\n",
    "\n",
    "metaclassifier = LogisticRegression(random_state=123, max_iter=1000)\n",
    "\n",
    "sclf = StackingCVClassifier(classifiers=[forest, boost], \n",
    "                            meta_classifier=metaclassifier, \n",
    "                            random_state=123)"
   ]
  },
  {
   "cell_type": "code",
   "execution_count": 62,
   "id": "b8708729",
   "metadata": {},
   "outputs": [
    {
     "name": "stdout",
     "output_type": "stream",
     "text": [
      "Fitting 2 folds for each of 8 candidates, totalling 16 fits\n",
      "[CV] END stackingcvclassifier__drop_proba_col=None, stackingcvclassifier__randomforestclassifier__n_estimators=10, stackingcvclassifier__use_probas=True, stackingcvclassifier__xgbclassifier__max_depth=4; total time=  56.8s\n",
      "[CV] END stackingcvclassifier__drop_proba_col=None, stackingcvclassifier__randomforestclassifier__n_estimators=10, stackingcvclassifier__use_probas=True, stackingcvclassifier__xgbclassifier__max_depth=4; total time=  49.3s\n",
      "[CV] END stackingcvclassifier__drop_proba_col=None, stackingcvclassifier__randomforestclassifier__n_estimators=10, stackingcvclassifier__use_probas=True, stackingcvclassifier__xgbclassifier__max_depth=6; total time= 1.1min\n",
      "[CV] END stackingcvclassifier__drop_proba_col=None, stackingcvclassifier__randomforestclassifier__n_estimators=10, stackingcvclassifier__use_probas=True, stackingcvclassifier__xgbclassifier__max_depth=6; total time= 1.1min\n",
      "[CV] END stackingcvclassifier__drop_proba_col=None, stackingcvclassifier__randomforestclassifier__n_estimators=10, stackingcvclassifier__use_probas=False, stackingcvclassifier__xgbclassifier__max_depth=4; total time=  51.6s\n",
      "[CV] END stackingcvclassifier__drop_proba_col=None, stackingcvclassifier__randomforestclassifier__n_estimators=10, stackingcvclassifier__use_probas=False, stackingcvclassifier__xgbclassifier__max_depth=4; total time=  43.3s\n",
      "[CV] END stackingcvclassifier__drop_proba_col=None, stackingcvclassifier__randomforestclassifier__n_estimators=10, stackingcvclassifier__use_probas=False, stackingcvclassifier__xgbclassifier__max_depth=6; total time= 1.3min\n",
      "[CV] END stackingcvclassifier__drop_proba_col=None, stackingcvclassifier__randomforestclassifier__n_estimators=10, stackingcvclassifier__use_probas=False, stackingcvclassifier__xgbclassifier__max_depth=6; total time= 1.2min\n",
      "[CV] END stackingcvclassifier__drop_proba_col=last, stackingcvclassifier__randomforestclassifier__n_estimators=10, stackingcvclassifier__use_probas=True, stackingcvclassifier__xgbclassifier__max_depth=4; total time=  50.7s\n",
      "[CV] END stackingcvclassifier__drop_proba_col=last, stackingcvclassifier__randomforestclassifier__n_estimators=10, stackingcvclassifier__use_probas=True, stackingcvclassifier__xgbclassifier__max_depth=4; total time= 1.1min\n",
      "[CV] END stackingcvclassifier__drop_proba_col=last, stackingcvclassifier__randomforestclassifier__n_estimators=10, stackingcvclassifier__use_probas=True, stackingcvclassifier__xgbclassifier__max_depth=6; total time= 1.3min\n",
      "[CV] END stackingcvclassifier__drop_proba_col=last, stackingcvclassifier__randomforestclassifier__n_estimators=10, stackingcvclassifier__use_probas=True, stackingcvclassifier__xgbclassifier__max_depth=6; total time= 1.5min\n",
      "[CV] END stackingcvclassifier__drop_proba_col=last, stackingcvclassifier__randomforestclassifier__n_estimators=10, stackingcvclassifier__use_probas=False, stackingcvclassifier__xgbclassifier__max_depth=4; total time= 1.0min\n",
      "[CV] END stackingcvclassifier__drop_proba_col=last, stackingcvclassifier__randomforestclassifier__n_estimators=10, stackingcvclassifier__use_probas=False, stackingcvclassifier__xgbclassifier__max_depth=4; total time=  51.1s\n",
      "[CV] END stackingcvclassifier__drop_proba_col=last, stackingcvclassifier__randomforestclassifier__n_estimators=10, stackingcvclassifier__use_probas=False, stackingcvclassifier__xgbclassifier__max_depth=6; total time=  56.3s\n",
      "[CV] END stackingcvclassifier__drop_proba_col=last, stackingcvclassifier__randomforestclassifier__n_estimators=10, stackingcvclassifier__use_probas=False, stackingcvclassifier__xgbclassifier__max_depth=6; total time= 1.0min\n"
     ]
    },
    {
     "data": {
      "text/plain": [
       "0.7272078319396288"
      ]
     },
     "execution_count": 62,
     "metadata": {},
     "output_type": "execute_result"
    }
   ],
   "source": [
    "pipe = make_pipeline(sclf)\n",
    "\n",
    "params =  {\n",
    "    'stackingcvclassifier__use_probas': [True, False],\n",
    "    'stackingcvclassifier__drop_proba_col': [None, 'last'],\n",
    "    'stackingcvclassifier__xgbclassifier__max_depth': [4, 6],\n",
    "    'stackingcvclassifier__randomforestclassifier__n_estimators': [10]\n",
    "}\n",
    "\n",
    "\n",
    "grid = GridSearchCV(estimator=pipe,\n",
    "                    param_grid=params,\n",
    "                    cv=2,\n",
    "                    n_jobs=1,\n",
    "                    verbose=2)\n",
    "\n",
    "#with parallel_backend('threading'):\n",
    "grid.fit(x_train, y_train)\n",
    "\n",
    "grid.best_score_"
   ]
  },
  {
   "cell_type": "markdown",
   "id": "d15cf06f",
   "metadata": {},
   "source": [
    "### 3.6.1 Training Set"
   ]
  },
  {
   "cell_type": "code",
   "execution_count": 63,
   "id": "bae6b532",
   "metadata": {},
   "outputs": [
    {
     "name": "stdout",
     "output_type": "stream",
     "text": [
      "Train Accuracy: 95.86%\n",
      "Valid Accuracy: 95.87%\n",
      "Test Accuracy: 76.71%\n"
     ]
    }
   ],
   "source": [
    "print(f\"Train Accuracy: {grid.best_estimator_.score(x_train, y_train)*100:0.2f}%\")\n",
    "print(f\"Valid Accuracy: {grid.best_estimator_.score(x_valid, y_valid)*100:0.2f}%\")\n",
    "print(f\"Test Accuracy: {grid.best_estimator_.score(x_test, y_test)*100:0.2f}%\")"
   ]
  },
  {
   "cell_type": "markdown",
   "id": "92e882cb",
   "metadata": {},
   "source": [
    "### 3.6.2 Validation Set"
   ]
  },
  {
   "cell_type": "code",
   "execution_count": 64,
   "id": "8021cf53",
   "metadata": {},
   "outputs": [],
   "source": [
    "y_pred_grid_valid = grid.predict(x_valid)"
   ]
  },
  {
   "cell_type": "code",
   "execution_count": 65,
   "id": "daa24320",
   "metadata": {},
   "outputs": [
    {
     "data": {
      "text/plain": [
       "0.9583287685888081"
      ]
     },
     "execution_count": 65,
     "metadata": {},
     "output_type": "execute_result"
    }
   ],
   "source": [
    "# F1 Scire\n",
    "f1_score(y_valid, y_pred_grid_valid, average='weighted')"
   ]
  },
  {
   "cell_type": "code",
   "execution_count": 66,
   "id": "a2f39eb5",
   "metadata": {},
   "outputs": [
    {
     "data": {
      "text/plain": [
       "0.9590182416290163"
      ]
     },
     "execution_count": 66,
     "metadata": {},
     "output_type": "execute_result"
    }
   ],
   "source": [
    "# Precision\n",
    "precision_score(y_valid, y_pred_grid_valid, average='weighted')"
   ]
  },
  {
   "cell_type": "code",
   "execution_count": 67,
   "id": "a1f16f5b",
   "metadata": {},
   "outputs": [
    {
     "data": {
      "text/plain": [
       "0.9587050726484833"
      ]
     },
     "execution_count": 67,
     "metadata": {},
     "output_type": "execute_result"
    }
   ],
   "source": [
    "# Recall\n",
    "recall_score(y_valid, y_pred_grid_valid, average='weighted')"
   ]
  },
  {
   "cell_type": "markdown",
   "id": "34461279",
   "metadata": {},
   "source": [
    "### 3.6.3 Test Set"
   ]
  },
  {
   "cell_type": "code",
   "execution_count": 68,
   "id": "50e54537",
   "metadata": {},
   "outputs": [],
   "source": [
    "y_pred_grid = grid.predict(x_test)"
   ]
  },
  {
   "cell_type": "code",
   "execution_count": 69,
   "id": "1927b08c",
   "metadata": {},
   "outputs": [
    {
     "data": {
      "text/plain": [
       "0.7692494116003705"
      ]
     },
     "execution_count": 69,
     "metadata": {},
     "output_type": "execute_result"
    }
   ],
   "source": [
    "# F1 Score\n",
    "f1_score(y_test, y_pred_grid, average='weighted')"
   ]
  },
  {
   "cell_type": "code",
   "execution_count": 70,
   "id": "b8132061",
   "metadata": {},
   "outputs": [
    {
     "data": {
      "text/plain": [
       "0.7775897317106159"
      ]
     },
     "execution_count": 70,
     "metadata": {},
     "output_type": "execute_result"
    }
   ],
   "source": [
    "# Precision\n",
    "precision_score(y_test, y_pred_grid, average='weighted')"
   ]
  },
  {
   "cell_type": "code",
   "execution_count": 71,
   "id": "43d9b280",
   "metadata": {},
   "outputs": [
    {
     "data": {
      "text/plain": [
       "0.7670711396621461"
      ]
     },
     "execution_count": 71,
     "metadata": {},
     "output_type": "execute_result"
    }
   ],
   "source": [
    "# Recall\n",
    "recall_score(y_test, y_pred_grid, average='weighted')"
   ]
  },
  {
   "cell_type": "markdown",
   "id": "0e73af3d",
   "metadata": {},
   "source": [
    "---------------------------------------------------------------------------------------------------------------------------------------"
   ]
  },
  {
   "cell_type": "markdown",
   "id": "fecf0607",
   "metadata": {},
   "source": [
    "## 3.7 Decision Tree Classifier + Grid Search CV <a class=\"anchor\" id=\"3.7\"></a>"
   ]
  },
  {
   "cell_type": "code",
   "execution_count": 72,
   "id": "6abe60db",
   "metadata": {},
   "outputs": [
    {
     "data": {
      "text/plain": [
       "GridSearchCV(cv=10, estimator=DecisionTreeClassifier(random_state=123),\n",
       "             param_grid={'criterion': ['gini', 'entropy'],\n",
       "                         'max_depth': [1, 2, 3, 4, 5, 10, 15, 20, None]},\n",
       "             scoring='accuracy')"
      ]
     },
     "execution_count": 72,
     "metadata": {},
     "output_type": "execute_result"
    }
   ],
   "source": [
    "tree = DecisionTreeClassifier(random_state=123)\n",
    "\n",
    "param_grid = {\n",
    "    'max_depth': [1, 2, 3, 4, 5, 10, 15, 20, None],\n",
    "    'criterion': ['gini', 'entropy']\n",
    "}\n",
    "\n",
    "gs = GridSearchCV(estimator=tree,\n",
    "                  param_grid=param_grid,\n",
    "                  scoring='accuracy',\n",
    "                  cv=10)\n",
    "\n",
    "gs.fit(x_train, y_train)"
   ]
  },
  {
   "cell_type": "markdown",
   "id": "4a1ce67c",
   "metadata": {},
   "source": [
    "### 3.7.1 Training Set"
   ]
  },
  {
   "cell_type": "code",
   "execution_count": 73,
   "id": "67972833",
   "metadata": {},
   "outputs": [
    {
     "name": "stdout",
     "output_type": "stream",
     "text": [
      "Train Accuracy: 99.88%\n",
      "Valid Accuracy: 99.90%\n",
      "Test Accuracy: 71.38%\n"
     ]
    }
   ],
   "source": [
    "print(f\"Train Accuracy: {gs.best_estimator_.score(x_train, y_train)*100:0.2f}%\")\n",
    "print(f\"Valid Accuracy: {gs.best_estimator_.score(x_valid, y_valid)*100:0.2f}%\")\n",
    "print(f\"Test Accuracy: {gs.best_estimator_.score(x_test, y_test)*100:0.2f}%\")"
   ]
  },
  {
   "cell_type": "markdown",
   "id": "02d25b1f",
   "metadata": {},
   "source": [
    "### 3.7.2 Valiadation Set"
   ]
  },
  {
   "cell_type": "code",
   "execution_count": 74,
   "id": "42ee9e54",
   "metadata": {},
   "outputs": [],
   "source": [
    "y_pred_gs_valid = gs.predict(x_valid)"
   ]
  },
  {
   "cell_type": "code",
   "execution_count": 75,
   "id": "db808e25",
   "metadata": {},
   "outputs": [
    {
     "data": {
      "text/plain": [
       "0.9989798504643607"
      ]
     },
     "execution_count": 75,
     "metadata": {},
     "output_type": "execute_result"
    }
   ],
   "source": [
    "f1_score(y_valid, y_pred_gs_valid, average='weighted')"
   ]
  },
  {
   "cell_type": "code",
   "execution_count": 76,
   "id": "809f4e1c",
   "metadata": {},
   "outputs": [
    {
     "data": {
      "text/plain": [
       "0.9989844650863847"
      ]
     },
     "execution_count": 76,
     "metadata": {},
     "output_type": "execute_result"
    }
   ],
   "source": [
    "precision_score(y_valid, y_pred_gs_valid, average='weighted')"
   ]
  },
  {
   "cell_type": "code",
   "execution_count": 77,
   "id": "b6370d7e",
   "metadata": {},
   "outputs": [
    {
     "data": {
      "text/plain": [
       "0.9989803721641601"
      ]
     },
     "execution_count": 77,
     "metadata": {},
     "output_type": "execute_result"
    }
   ],
   "source": [
    "recall_score(y_valid, y_pred_gs_valid, average='weighted')"
   ]
  },
  {
   "cell_type": "markdown",
   "id": "a32e7206",
   "metadata": {},
   "source": [
    "### 3.7.3 Testing Set"
   ]
  },
  {
   "cell_type": "code",
   "execution_count": 78,
   "id": "ce8ce1b5",
   "metadata": {},
   "outputs": [],
   "source": [
    "y_pred_gs = gs.predict(x_test)"
   ]
  },
  {
   "cell_type": "code",
   "execution_count": 79,
   "id": "9a1c8e8a",
   "metadata": {},
   "outputs": [
    {
     "data": {
      "text/plain": [
       "0.7135783246098991"
      ]
     },
     "execution_count": 79,
     "metadata": {},
     "output_type": "execute_result"
    }
   ],
   "source": [
    "f1_score(y_test, y_pred_gs, average='weighted')"
   ]
  },
  {
   "cell_type": "code",
   "execution_count": 80,
   "id": "072060ad",
   "metadata": {},
   "outputs": [
    {
     "data": {
      "text/plain": [
       "0.7179624782147437"
      ]
     },
     "execution_count": 80,
     "metadata": {},
     "output_type": "execute_result"
    }
   ],
   "source": [
    "precision_score(y_test, y_pred_gs, average='weighted')"
   ]
  },
  {
   "cell_type": "code",
   "execution_count": 81,
   "id": "a44dc9c3",
   "metadata": {},
   "outputs": [
    {
     "data": {
      "text/plain": [
       "0.7137758743754461"
      ]
     },
     "execution_count": 81,
     "metadata": {},
     "output_type": "execute_result"
    }
   ],
   "source": [
    "recall_score(y_test, y_pred_gs, average='weighted')"
   ]
  }
 ],
 "metadata": {
  "kernelspec": {
   "display_name": "Python 3",
   "language": "python",
   "name": "python3"
  },
  "language_info": {
   "codemirror_mode": {
    "name": "ipython",
    "version": 3
   },
   "file_extension": ".py",
   "mimetype": "text/x-python",
   "name": "python",
   "nbconvert_exporter": "python",
   "pygments_lexer": "ipython3",
   "version": "3.8.8"
  }
 },
 "nbformat": 4,
 "nbformat_minor": 5
}
