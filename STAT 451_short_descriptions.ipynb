{
 "cells": [
  {
   "cell_type": "markdown",
   "id": "17a6abdb",
   "metadata": {},
   "source": [
    "# Machine Learning Models (Using `short descriptions`)"
   ]
  },
  {
   "cell_type": "markdown",
   "id": "6bbc74ea",
   "metadata": {},
   "source": [
    "### Table of Content\n",
    "\n",
    "* [1 Python Setup](#1)\n",
    "* [2 Data Visulation](#2)\n",
    "    * [2.1 Data Cleaning](#2.1)\n",
    "* [3 Model Fitting](#3)\n",
    "    * [3.1 K-Nearest-Neighbors Classifier](#3.1)\n",
    "    * [3.2 Multinomial NB](#3.2)\n",
    "    * [3.3 RandomForestClassifier](#3.3)\n",
    "    * [3.4 OneVsRestClassifier ](#3.4)\n",
    "    * [3.5 LinearSVC](#3.5)\n",
    "    * [3.6 StackingCVClassifier + GridSearchCV](#3.6)\n",
    "    * [3.7 Decision Tree Classifier + Grid Search CV](#3.7)"
   ]
  },
  {
   "cell_type": "markdown",
   "id": "af5bd646",
   "metadata": {},
   "source": [
    "## 1 Python Setup <a class=\"anchor\" id=\"1\"></a>"
   ]
  },
  {
   "cell_type": "code",
   "execution_count": 1,
   "id": "81e44d43",
   "metadata": {},
   "outputs": [],
   "source": [
    "import re\n",
    "import random\n",
    "import numpy as np\n",
    "import pandas as pd\n",
    "from sklearn.feature_extraction.text import TfidfTransformer\n",
    "from sklearn.ensemble import RandomForestClassifier\n",
    "from sklearn.naive_bayes import MultinomialNB\n",
    "from sklearn.model_selection import train_test_split\n",
    "from sklearn.feature_extraction.text import CountVectorizer\n",
    "from sklearn.preprocessing import LabelEncoder\n",
    "from sklearn.pipeline import Pipeline\n",
    "from sklearn.feature_extraction.text import TfidfTransformer\n",
    "from sklearn.multiclass import OneVsRestClassifier\n",
    "from sklearn.svm import LinearSVC\n",
    "from sklearn.preprocessing import StandardScaler\n",
    "from nltk.tokenize import word_tokenize\n",
    "from nltk.corpus import stopwords\n",
    "from xgboost import XGBClassifier\n",
    "from mlxtend.classifier import StackingCVClassifier\n",
    "from sklearn.linear_model import LogisticRegression\n",
    "from sklearn.model_selection import GridSearchCV\n",
    "from sklearn.pipeline import make_pipeline\n",
    "from sklearn.tree import DecisionTreeClassifier\n",
    "from sklearn.neighbors import KNeighborsClassifier\n",
    "from sklearn.metrics import accuracy_score\n",
    "from sklearn.metrics import f1_score\n",
    "from sklearn.metrics import precision_score\n",
    "from sklearn.metrics import recall_score"
   ]
  },
  {
   "cell_type": "markdown",
   "id": "18093265",
   "metadata": {},
   "source": [
    "## 2 Data Visualization <a class=\"anchor\" id=\"2\"></a>"
   ]
  },
  {
   "cell_type": "code",
   "execution_count": 2,
   "id": "ec117a95",
   "metadata": {},
   "outputs": [],
   "source": [
    "random.seed(123)\n",
    "news = pd.read_csv('final_news_df.csv')\n",
    "news = news.dropna()"
   ]
  },
  {
   "cell_type": "code",
   "execution_count": 3,
   "id": "0ce32e03",
   "metadata": {},
   "outputs": [
    {
     "data": {
      "text/html": [
       "<div>\n",
       "<style scoped>\n",
       "    .dataframe tbody tr th:only-of-type {\n",
       "        vertical-align: middle;\n",
       "    }\n",
       "\n",
       "    .dataframe tbody tr th {\n",
       "        vertical-align: top;\n",
       "    }\n",
       "\n",
       "    .dataframe thead th {\n",
       "        text-align: right;\n",
       "    }\n",
       "</style>\n",
       "<table border=\"1\" class=\"dataframe\">\n",
       "  <thead>\n",
       "    <tr style=\"text-align: right;\">\n",
       "      <th></th>\n",
       "      <th>category</th>\n",
       "      <th>headline</th>\n",
       "      <th>short_description</th>\n",
       "      <th>date</th>\n",
       "      <th>keywords</th>\n",
       "    </tr>\n",
       "  </thead>\n",
       "  <tbody>\n",
       "    <tr>\n",
       "      <th>1</th>\n",
       "      <td>BUSINESS</td>\n",
       "      <td>Investment Crowdfunding Draws a Crowd</td>\n",
       "      <td>It's getting crowded in the investment crowdfu...</td>\n",
       "      <td>2015-03-02</td>\n",
       "      <td>investment-crowdfunding-draw</td>\n",
       "    </tr>\n",
       "    <tr>\n",
       "      <th>2</th>\n",
       "      <td>BUSINESS</td>\n",
       "      <td>Office Romances Often Sparked By Emoticon-Lace...</td>\n",
       "      <td>But even though they might literally be sendin...</td>\n",
       "      <td>2012-08-26</td>\n",
       "      <td>office-romances-emoticons</td>\n",
       "    </tr>\n",
       "    <tr>\n",
       "      <th>3</th>\n",
       "      <td>BUSINESS</td>\n",
       "      <td>Verizon Could Buy Yahoo In The Next Few Days</td>\n",
       "      <td>A deal could be coming soon.</td>\n",
       "      <td>2016-07-22</td>\n",
       "      <td>verizon-could-buy-yahoo-next-few-days</td>\n",
       "    </tr>\n",
       "    <tr>\n",
       "      <th>4</th>\n",
       "      <td>BUSINESS</td>\n",
       "      <td>What's Your Meeting Brand?</td>\n",
       "      <td>Many leaders operate as if their meeting brand...</td>\n",
       "      <td>2014-06-11</td>\n",
       "      <td>whats-your-meeting-brand</td>\n",
       "    </tr>\n",
       "    <tr>\n",
       "      <th>5</th>\n",
       "      <td>BUSINESS</td>\n",
       "      <td>Feds OK Charter And Time Warner Mega Merger</td>\n",
       "      <td>The deal, which still needs FCC approval, woul...</td>\n",
       "      <td>2016-04-25</td>\n",
       "      <td>charter-time-warner-cable-takeover</td>\n",
       "    </tr>\n",
       "  </tbody>\n",
       "</table>\n",
       "</div>"
      ],
      "text/plain": [
       "   category                                           headline  \\\n",
       "1  BUSINESS              Investment Crowdfunding Draws a Crowd   \n",
       "2  BUSINESS  Office Romances Often Sparked By Emoticon-Lace...   \n",
       "3  BUSINESS       Verizon Could Buy Yahoo In The Next Few Days   \n",
       "4  BUSINESS                         What's Your Meeting Brand?   \n",
       "5  BUSINESS        Feds OK Charter And Time Warner Mega Merger   \n",
       "\n",
       "                                   short_description        date  \\\n",
       "1  It's getting crowded in the investment crowdfu...  2015-03-02   \n",
       "2  But even though they might literally be sendin...  2012-08-26   \n",
       "3                       A deal could be coming soon.  2016-07-22   \n",
       "4  Many leaders operate as if their meeting brand...  2014-06-11   \n",
       "5  The deal, which still needs FCC approval, woul...  2016-04-25   \n",
       "\n",
       "                                keywords  \n",
       "1           investment-crowdfunding-draw  \n",
       "2              office-romances-emoticons  \n",
       "3  verizon-could-buy-yahoo-next-few-days  \n",
       "4               whats-your-meeting-brand  \n",
       "5     charter-time-warner-cable-takeover  "
      ]
     },
     "execution_count": 3,
     "metadata": {},
     "output_type": "execute_result"
    }
   ],
   "source": [
    "news.head()"
   ]
  },
  {
   "cell_type": "markdown",
   "id": "d828f028",
   "metadata": {},
   "source": [
    "### 2.1 Data Cleaning <a class=\"anchor\" id=\"2.1\"></a>"
   ]
  },
  {
   "cell_type": "code",
   "execution_count": 4,
   "id": "8b8fc24d",
   "metadata": {},
   "outputs": [],
   "source": [
    "def remove_sign(text):\n",
    "    pattern = r'[,:!?.\\/\\|\\*\\(\\)\\\"]'\n",
    "    text=re.sub(pattern,' ',text)\n",
    "    text = re.sub('[^a-zA-Z]',\" \" ,text)\n",
    "    return text\n",
    "\n",
    "news['text'] = news['short_description'].apply(remove_sign)\n",
    "\n",
    "def remove_stop_words(text):\n",
    "    tokens = word_tokenize(text)\n",
    "    words = [word.lower() for word in tokens if word.isalpha()]\n",
    "    stop_words = set(stopwords.words('english'))\n",
    "    words = [word for word in words if not word in stop_words]\n",
    "    str1 = \" \".join(words)\n",
    "    return str1.strip()\n",
    "        \n",
    "news['text'] = news['text'].apply(remove_stop_words)"
   ]
  },
  {
   "cell_type": "code",
   "execution_count": 5,
   "id": "860bfc79",
   "metadata": {},
   "outputs": [
    {
     "data": {
      "text/html": [
       "<div>\n",
       "<style scoped>\n",
       "    .dataframe tbody tr th:only-of-type {\n",
       "        vertical-align: middle;\n",
       "    }\n",
       "\n",
       "    .dataframe tbody tr th {\n",
       "        vertical-align: top;\n",
       "    }\n",
       "\n",
       "    .dataframe thead th {\n",
       "        text-align: right;\n",
       "    }\n",
       "</style>\n",
       "<table border=\"1\" class=\"dataframe\">\n",
       "  <thead>\n",
       "    <tr style=\"text-align: right;\">\n",
       "      <th></th>\n",
       "      <th>category</th>\n",
       "      <th>headline</th>\n",
       "      <th>short_description</th>\n",
       "      <th>date</th>\n",
       "      <th>keywords</th>\n",
       "      <th>text</th>\n",
       "    </tr>\n",
       "  </thead>\n",
       "  <tbody>\n",
       "    <tr>\n",
       "      <th>1</th>\n",
       "      <td>BUSINESS</td>\n",
       "      <td>Investment Crowdfunding Draws a Crowd</td>\n",
       "      <td>It's getting crowded in the investment crowdfu...</td>\n",
       "      <td>2015-03-02</td>\n",
       "      <td>investment-crowdfunding-draw</td>\n",
       "      <td>getting crowded investment crowdfunding space ...</td>\n",
       "    </tr>\n",
       "    <tr>\n",
       "      <th>2</th>\n",
       "      <td>BUSINESS</td>\n",
       "      <td>Office Romances Often Sparked By Emoticon-Lace...</td>\n",
       "      <td>But even though they might literally be sendin...</td>\n",
       "      <td>2012-08-26</td>\n",
       "      <td>office-romances-emoticons</td>\n",
       "      <td>even though might literally sending wrong mess...</td>\n",
       "    </tr>\n",
       "    <tr>\n",
       "      <th>3</th>\n",
       "      <td>BUSINESS</td>\n",
       "      <td>Verizon Could Buy Yahoo In The Next Few Days</td>\n",
       "      <td>A deal could be coming soon.</td>\n",
       "      <td>2016-07-22</td>\n",
       "      <td>verizon-could-buy-yahoo-next-few-days</td>\n",
       "      <td>deal could coming soon</td>\n",
       "    </tr>\n",
       "    <tr>\n",
       "      <th>4</th>\n",
       "      <td>BUSINESS</td>\n",
       "      <td>What's Your Meeting Brand?</td>\n",
       "      <td>Many leaders operate as if their meeting brand...</td>\n",
       "      <td>2014-06-11</td>\n",
       "      <td>whats-your-meeting-brand</td>\n",
       "      <td>many leaders operate meeting brand directly af...</td>\n",
       "    </tr>\n",
       "    <tr>\n",
       "      <th>5</th>\n",
       "      <td>BUSINESS</td>\n",
       "      <td>Feds OK Charter And Time Warner Mega Merger</td>\n",
       "      <td>The deal, which still needs FCC approval, woul...</td>\n",
       "      <td>2016-04-25</td>\n",
       "      <td>charter-time-warner-cable-takeover</td>\n",
       "      <td>deal still needs fcc approval would create sec...</td>\n",
       "    </tr>\n",
       "  </tbody>\n",
       "</table>\n",
       "</div>"
      ],
      "text/plain": [
       "   category                                           headline  \\\n",
       "1  BUSINESS              Investment Crowdfunding Draws a Crowd   \n",
       "2  BUSINESS  Office Romances Often Sparked By Emoticon-Lace...   \n",
       "3  BUSINESS       Verizon Could Buy Yahoo In The Next Few Days   \n",
       "4  BUSINESS                         What's Your Meeting Brand?   \n",
       "5  BUSINESS        Feds OK Charter And Time Warner Mega Merger   \n",
       "\n",
       "                                   short_description        date  \\\n",
       "1  It's getting crowded in the investment crowdfu...  2015-03-02   \n",
       "2  But even though they might literally be sendin...  2012-08-26   \n",
       "3                       A deal could be coming soon.  2016-07-22   \n",
       "4  Many leaders operate as if their meeting brand...  2014-06-11   \n",
       "5  The deal, which still needs FCC approval, woul...  2016-04-25   \n",
       "\n",
       "                                keywords  \\\n",
       "1           investment-crowdfunding-draw   \n",
       "2              office-romances-emoticons   \n",
       "3  verizon-could-buy-yahoo-next-few-days   \n",
       "4               whats-your-meeting-brand   \n",
       "5     charter-time-warner-cable-takeover   \n",
       "\n",
       "                                                text  \n",
       "1  getting crowded investment crowdfunding space ...  \n",
       "2  even though might literally sending wrong mess...  \n",
       "3                             deal could coming soon  \n",
       "4  many leaders operate meeting brand directly af...  \n",
       "5  deal still needs fcc approval would create sec...  "
      ]
     },
     "execution_count": 5,
     "metadata": {},
     "output_type": "execute_result"
    }
   ],
   "source": [
    "news.head()"
   ]
  },
  {
   "cell_type": "code",
   "execution_count": 6,
   "id": "8c8d4526",
   "metadata": {},
   "outputs": [
    {
     "name": "stdout",
     "output_type": "stream",
     "text": [
      "Train/Valid/Test sizes: 15689 3923 8406\n"
     ]
    }
   ],
   "source": [
    "vectorizer = CountVectorizer()\n",
    "x = vectorizer.fit_transform(news['text'])\n",
    "tfidf_transformer = TfidfTransformer()\n",
    "X_train_tfidf = tfidf_transformer.fit_transform(x)\n",
    "\n",
    "\n",
    "encoder = LabelEncoder()\n",
    "y = encoder.fit_transform(news['category'])\n",
    "\n",
    "x_train, x_test, y_train, y_test = \\\n",
    "    train_test_split(X_train_tfidf, y, test_size=0.3, random_state=123, stratify=y)\n",
    "\n",
    "x_train_sub, x_valid, y_train_sub, y_valid = \\\n",
    "    train_test_split(x_train, y_train, test_size=0.2, random_state=123, stratify=y_train)\n",
    "\n",
    "print('Train/Valid/Test sizes:', y_train_sub.shape[0], y_valid.shape[0], y_test.shape[0])"
   ]
  },
  {
   "cell_type": "markdown",
   "id": "fc9c378c",
   "metadata": {},
   "source": [
    "---------------------------------------"
   ]
  },
  {
   "cell_type": "markdown",
   "id": "1e2d5484",
   "metadata": {},
   "source": [
    "## 3 Model Fitting <a class=\"anchor\" id=\"3\"></a>"
   ]
  },
  {
   "cell_type": "markdown",
   "id": "db5d091c",
   "metadata": {},
   "source": [
    "## 3.1 K-Nearest-Neighbors Classifier <a class=\"anchor\" id=\"3.1\"></a>"
   ]
  },
  {
   "cell_type": "code",
   "execution_count": 7,
   "id": "6c12442c",
   "metadata": {},
   "outputs": [
    {
     "data": {
      "text/plain": [
       "KNeighborsClassifier(n_neighbors=3)"
      ]
     },
     "execution_count": 7,
     "metadata": {},
     "output_type": "execute_result"
    }
   ],
   "source": [
    "knn_model = KNeighborsClassifier(n_neighbors=3)\n",
    "knn_model.fit(x_train, y_train)"
   ]
  },
  {
   "cell_type": "markdown",
   "id": "a5905459",
   "metadata": {},
   "source": [
    "### 3.1.1 Training Set"
   ]
  },
  {
   "cell_type": "code",
   "execution_count": 8,
   "id": "fe2480d7",
   "metadata": {},
   "outputs": [
    {
     "name": "stdout",
     "output_type": "stream",
     "text": [
      "Training Accuracy: 28.63%\n",
      "Valid set accuracy: 29.24%\n",
      "Test set accuracy: 21.20%\n"
     ]
    }
   ],
   "source": [
    "print(f'Training Accuracy: {knn_model.score(x_train, y_train)*100:.2f}%')\n",
    "print(f'Valid set accuracy: {knn_model.score(x_valid, y_valid)*100:.2f}%')\n",
    "print(f'Test set accuracy: {knn_model.score(x_test, y_test)*100:.2f}%')"
   ]
  },
  {
   "cell_type": "markdown",
   "id": "fdc40811",
   "metadata": {},
   "source": [
    "### 3.1.2 Validation Set"
   ]
  },
  {
   "cell_type": "code",
   "execution_count": 9,
   "id": "14554f41",
   "metadata": {},
   "outputs": [],
   "source": [
    "y_pred_knn_valid = knn_model.predict(x_valid)"
   ]
  },
  {
   "cell_type": "code",
   "execution_count": 10,
   "id": "4c4c1880",
   "metadata": {},
   "outputs": [
    {
     "data": {
      "text/plain": [
       "0.23023260698142486"
      ]
     },
     "execution_count": 10,
     "metadata": {},
     "output_type": "execute_result"
    }
   ],
   "source": [
    "f1_score(y_valid, y_pred_knn_valid, average='weighted')"
   ]
  },
  {
   "cell_type": "code",
   "execution_count": 11,
   "id": "16328ba8",
   "metadata": {},
   "outputs": [
    {
     "data": {
      "text/plain": [
       "0.8073422047544284"
      ]
     },
     "execution_count": 11,
     "metadata": {},
     "output_type": "execute_result"
    }
   ],
   "source": [
    "precision_score(y_valid, y_pred_knn_valid, average='weighted')"
   ]
  },
  {
   "cell_type": "code",
   "execution_count": 12,
   "id": "2cc139e2",
   "metadata": {},
   "outputs": [
    {
     "data": {
      "text/plain": [
       "0.2923782819270966"
      ]
     },
     "execution_count": 12,
     "metadata": {},
     "output_type": "execute_result"
    }
   ],
   "source": [
    "recall_score(y_valid, y_pred_knn_valid, average='weighted')"
   ]
  },
  {
   "cell_type": "markdown",
   "id": "b5c8d4ef",
   "metadata": {},
   "source": [
    "### 3.1.3 Test Set"
   ]
  },
  {
   "cell_type": "code",
   "execution_count": 13,
   "id": "45173435",
   "metadata": {},
   "outputs": [],
   "source": [
    "y_pred_knn = knn_model.predict(x_test)"
   ]
  },
  {
   "cell_type": "code",
   "execution_count": 14,
   "id": "16639cb2",
   "metadata": {},
   "outputs": [
    {
     "data": {
      "text/plain": [
       "0.12896311335322155"
      ]
     },
     "execution_count": 14,
     "metadata": {},
     "output_type": "execute_result"
    }
   ],
   "source": [
    "f1_score(y_test, y_pred_knn, average='weighted')"
   ]
  },
  {
   "cell_type": "code",
   "execution_count": 15,
   "id": "3691d0ca",
   "metadata": {},
   "outputs": [
    {
     "data": {
      "text/plain": [
       "0.7740710088713483"
      ]
     },
     "execution_count": 15,
     "metadata": {},
     "output_type": "execute_result"
    }
   ],
   "source": [
    "precision_score(y_test, y_pred_knn, average='weighted')"
   ]
  },
  {
   "cell_type": "code",
   "execution_count": 16,
   "id": "cfd26a2b",
   "metadata": {},
   "outputs": [
    {
     "data": {
      "text/plain": [
       "0.21199143468950749"
      ]
     },
     "execution_count": 16,
     "metadata": {},
     "output_type": "execute_result"
    }
   ],
   "source": [
    "recall_score(y_test, y_pred_knn, average='weighted')"
   ]
  },
  {
   "cell_type": "markdown",
   "id": "4667009c",
   "metadata": {},
   "source": [
    "--------------------"
   ]
  },
  {
   "cell_type": "markdown",
   "id": "bf79f9f3",
   "metadata": {},
   "source": [
    "## 3.2 Multinomial NB <a class=\"anchor\" id=\"3.2\"></a>"
   ]
  },
  {
   "cell_type": "markdown",
   "id": "192a4aba",
   "metadata": {},
   "source": [
    "### 3.2.1 Training Set"
   ]
  },
  {
   "cell_type": "code",
   "execution_count": 17,
   "id": "04cde478",
   "metadata": {},
   "outputs": [
    {
     "data": {
      "text/plain": [
       "MultinomialNB()"
      ]
     },
     "execution_count": 17,
     "metadata": {},
     "output_type": "execute_result"
    }
   ],
   "source": [
    "nb = MultinomialNB()\n",
    "nb.fit(x_train, y_train)"
   ]
  },
  {
   "cell_type": "code",
   "execution_count": 18,
   "id": "292b8948",
   "metadata": {},
   "outputs": [
    {
     "data": {
      "text/plain": [
       "0.8635019375892311"
      ]
     },
     "execution_count": 18,
     "metadata": {},
     "output_type": "execute_result"
    }
   ],
   "source": [
    "nb.score(x_train, y_train)"
   ]
  },
  {
   "cell_type": "code",
   "execution_count": 19,
   "id": "cebd1cf1",
   "metadata": {},
   "outputs": [
    {
     "name": "stdout",
     "output_type": "stream",
     "text": [
      "Training Accuracy: 86.35%\n",
      "Valid set accuracy: 86.57%\n",
      "Test set accuracy: 72.82%\n"
     ]
    }
   ],
   "source": [
    "print(f'Training Accuracy: {nb.score(x_train, y_train)*100:.2f}%')\n",
    "print(f'Valid set accuracy: {nb.score(x_valid, y_valid)*100:.2f}%')\n",
    "print(f'Test set accuracy: {nb.score(x_test, y_test)*100:.2f}%')"
   ]
  },
  {
   "cell_type": "markdown",
   "id": "0f830cf0",
   "metadata": {},
   "source": [
    "### 3.2.2 Validation Set"
   ]
  },
  {
   "cell_type": "code",
   "execution_count": 20,
   "id": "ac58ce9b",
   "metadata": {},
   "outputs": [],
   "source": [
    "y_pred_nb_valid = nb.predict(x_valid)"
   ]
  },
  {
   "cell_type": "code",
   "execution_count": 21,
   "id": "1dbf0ee3",
   "metadata": {},
   "outputs": [
    {
     "data": {
      "text/plain": [
       "0.8656640326280908"
      ]
     },
     "execution_count": 21,
     "metadata": {},
     "output_type": "execute_result"
    }
   ],
   "source": [
    "nb.score(x_valid, y_valid)"
   ]
  },
  {
   "cell_type": "code",
   "execution_count": 22,
   "id": "dc583070",
   "metadata": {},
   "outputs": [
    {
     "data": {
      "text/plain": [
       "0.8658070959602286"
      ]
     },
     "execution_count": 22,
     "metadata": {},
     "output_type": "execute_result"
    }
   ],
   "source": [
    "f1_score(y_valid, y_pred_nb_valid, average='weighted')"
   ]
  },
  {
   "cell_type": "code",
   "execution_count": 23,
   "id": "96ad0b6a",
   "metadata": {},
   "outputs": [
    {
     "data": {
      "text/plain": [
       "0.8676558777448972"
      ]
     },
     "execution_count": 23,
     "metadata": {},
     "output_type": "execute_result"
    }
   ],
   "source": [
    "precision_score(y_valid, y_pred_nb_valid, average='weighted')"
   ]
  },
  {
   "cell_type": "code",
   "execution_count": 24,
   "id": "8e9d8b17",
   "metadata": {},
   "outputs": [
    {
     "data": {
      "text/plain": [
       "0.8656640326280908"
      ]
     },
     "execution_count": 24,
     "metadata": {},
     "output_type": "execute_result"
    }
   ],
   "source": [
    "recall_score(y_valid, y_pred_nb_valid, average='weighted')"
   ]
  },
  {
   "cell_type": "markdown",
   "id": "dfb46b5e",
   "metadata": {},
   "source": [
    "### 3.2.3 Test Set"
   ]
  },
  {
   "cell_type": "code",
   "execution_count": 25,
   "id": "fb122d82",
   "metadata": {},
   "outputs": [],
   "source": [
    "y_pred_nb = nb.predict(x_test)"
   ]
  },
  {
   "cell_type": "code",
   "execution_count": 26,
   "id": "d099aabf",
   "metadata": {},
   "outputs": [
    {
     "data": {
      "text/plain": [
       "0.7281703545086843"
      ]
     },
     "execution_count": 26,
     "metadata": {},
     "output_type": "execute_result"
    }
   ],
   "source": [
    "nb.score(x_test, y_test)"
   ]
  },
  {
   "cell_type": "code",
   "execution_count": 27,
   "id": "e3f722f3",
   "metadata": {},
   "outputs": [
    {
     "data": {
      "text/plain": [
       "0.7284042070861073"
      ]
     },
     "execution_count": 27,
     "metadata": {},
     "output_type": "execute_result"
    }
   ],
   "source": [
    "f1_score(y_test, y_pred_nb, average='weighted')"
   ]
  },
  {
   "cell_type": "code",
   "execution_count": 28,
   "id": "6d10d5ad",
   "metadata": {},
   "outputs": [
    {
     "data": {
      "text/plain": [
       "0.7352731622532759"
      ]
     },
     "execution_count": 28,
     "metadata": {},
     "output_type": "execute_result"
    }
   ],
   "source": [
    "precision_score(y_test, y_pred_nb, average='weighted')"
   ]
  },
  {
   "cell_type": "code",
   "execution_count": 29,
   "id": "73ff8c1e",
   "metadata": {},
   "outputs": [
    {
     "data": {
      "text/plain": [
       "0.7281703545086843"
      ]
     },
     "execution_count": 29,
     "metadata": {},
     "output_type": "execute_result"
    }
   ],
   "source": [
    "recall_score(y_test, y_pred_nb, average='weighted')"
   ]
  },
  {
   "cell_type": "markdown",
   "id": "6901ba15",
   "metadata": {},
   "source": [
    "-------------------"
   ]
  },
  {
   "cell_type": "markdown",
   "id": "eeaebdca",
   "metadata": {},
   "source": [
    "## 3.3 RandomForestClassifier <a class=\"anchor\" id=\"3.3\"></a>"
   ]
  },
  {
   "cell_type": "code",
   "execution_count": 30,
   "id": "570fa006",
   "metadata": {},
   "outputs": [
    {
     "data": {
      "text/plain": [
       "RandomForestClassifier(n_estimators=50, random_state=1)"
      ]
     },
     "execution_count": 30,
     "metadata": {},
     "output_type": "execute_result"
    }
   ],
   "source": [
    "forest = RandomForestClassifier(n_estimators=50,\n",
    "                                random_state=1)\n",
    "forest.fit(x_train, y_train)"
   ]
  },
  {
   "cell_type": "markdown",
   "id": "454913e6",
   "metadata": {},
   "source": [
    "### 3.3.1 Training Set"
   ]
  },
  {
   "cell_type": "code",
   "execution_count": 31,
   "id": "805c53e9",
   "metadata": {},
   "outputs": [
    {
     "name": "stdout",
     "output_type": "stream",
     "text": [
      "Training Accuracy: 99.90%\n",
      "Valid set accuracy: 99.77%\n",
      "Test set accuracy: 69.51%\n"
     ]
    }
   ],
   "source": [
    "print(f'Training Accuracy: {forest.score(x_train, y_train)*100:.2f}%')\n",
    "print(f'Valid set accuracy: {forest.score(x_valid, y_valid)*100:.2f}%')\n",
    "print(f'Test set accuracy: {forest.score(x_test, y_test)*100:.2f}%')"
   ]
  },
  {
   "cell_type": "markdown",
   "id": "191ebe3c",
   "metadata": {},
   "source": [
    "### 3.3.2 Validation Set"
   ]
  },
  {
   "cell_type": "code",
   "execution_count": 32,
   "id": "a7a2ddb3",
   "metadata": {},
   "outputs": [],
   "source": [
    "y_pred_forest_valid = forest.predict(x_valid)"
   ]
  },
  {
   "cell_type": "code",
   "execution_count": 33,
   "id": "d0d8eec1",
   "metadata": {},
   "outputs": [
    {
     "data": {
      "text/plain": [
       "0.9977087458639238"
      ]
     },
     "execution_count": 33,
     "metadata": {},
     "output_type": "execute_result"
    }
   ],
   "source": [
    "f1_score(y_valid, y_pred_forest_valid, average='weighted')"
   ]
  },
  {
   "cell_type": "code",
   "execution_count": 34,
   "id": "9260f6ed",
   "metadata": {},
   "outputs": [
    {
     "data": {
      "text/plain": [
       "0.9977203890295185"
      ]
     },
     "execution_count": 34,
     "metadata": {},
     "output_type": "execute_result"
    }
   ],
   "source": [
    "precision_score(y_valid, y_pred_forest_valid, average='weighted')"
   ]
  },
  {
   "cell_type": "code",
   "execution_count": 35,
   "id": "84d93869",
   "metadata": {},
   "outputs": [
    {
     "data": {
      "text/plain": [
       "0.9977058373693601"
      ]
     },
     "execution_count": 35,
     "metadata": {},
     "output_type": "execute_result"
    }
   ],
   "source": [
    "recall_score(y_valid, y_pred_forest_valid, average='weighted')"
   ]
  },
  {
   "cell_type": "markdown",
   "id": "f65649a9",
   "metadata": {},
   "source": [
    "### 3.3.3 Test Set"
   ]
  },
  {
   "cell_type": "code",
   "execution_count": 36,
   "id": "46e090ba",
   "metadata": {},
   "outputs": [],
   "source": [
    "y_pred_forest = forest.predict(x_test)"
   ]
  },
  {
   "cell_type": "code",
   "execution_count": 37,
   "id": "37cb7a21",
   "metadata": {},
   "outputs": [
    {
     "data": {
      "text/plain": [
       "0.6965195086302622"
      ]
     },
     "execution_count": 37,
     "metadata": {},
     "output_type": "execute_result"
    }
   ],
   "source": [
    "f1_score(y_test, y_pred_forest, average='weighted')"
   ]
  },
  {
   "cell_type": "code",
   "execution_count": 38,
   "id": "cf6c1754",
   "metadata": {},
   "outputs": [
    {
     "data": {
      "text/plain": [
       "0.7056670248429486"
      ]
     },
     "execution_count": 38,
     "metadata": {},
     "output_type": "execute_result"
    }
   ],
   "source": [
    "precision_score(y_test, y_pred_forest, average='weighted')"
   ]
  },
  {
   "cell_type": "code",
   "execution_count": 39,
   "id": "a0725285",
   "metadata": {},
   "outputs": [
    {
     "data": {
      "text/plain": [
       "0.6950987389959553"
      ]
     },
     "execution_count": 39,
     "metadata": {},
     "output_type": "execute_result"
    }
   ],
   "source": [
    "recall_score(y_test, y_pred_forest, average='weighted')"
   ]
  },
  {
   "cell_type": "markdown",
   "id": "433409f4",
   "metadata": {},
   "source": [
    "-------------------------"
   ]
  },
  {
   "cell_type": "markdown",
   "id": "6fbf42f1",
   "metadata": {},
   "source": [
    "## 3.4 OneVsRestClassifier <a class=\"anchor\" id=\"3.4\"></a>"
   ]
  },
  {
   "cell_type": "code",
   "execution_count": 40,
   "id": "38445d0b",
   "metadata": {},
   "outputs": [],
   "source": [
    "ovr = OneVsRestClassifier(MultinomialNB())\n",
    "y_pred_ovr = ovr.fit(x_train, y_train).predict(x_test)"
   ]
  },
  {
   "cell_type": "markdown",
   "id": "9b5859d1",
   "metadata": {},
   "source": [
    "### 3.4.1 Traing Set"
   ]
  },
  {
   "cell_type": "code",
   "execution_count": 41,
   "id": "222326f3",
   "metadata": {},
   "outputs": [
    {
     "name": "stdout",
     "output_type": "stream",
     "text": [
      "Training Accuracy: 87.28%\n",
      "Valid set accuracy: 87.56%\n",
      "Test set accuracy: 73.82%\n"
     ]
    }
   ],
   "source": [
    "print(f'Training Accuracy: {ovr.score(x_train, y_train)*100:.2f}%')\n",
    "print(f'Valid set accuracy: {ovr.score(x_valid, y_valid)*100:.2f}%')\n",
    "print(f'Test set accuracy: {ovr.score(x_test, y_test)*100:.2f}%')"
   ]
  },
  {
   "cell_type": "markdown",
   "id": "9de8372e",
   "metadata": {},
   "source": [
    "### 3.4.2 Validation Set"
   ]
  },
  {
   "cell_type": "code",
   "execution_count": 42,
   "id": "8d12682c",
   "metadata": {},
   "outputs": [],
   "source": [
    "y_pred_ovr_valid = ovr.predict(x_valid)"
   ]
  },
  {
   "cell_type": "code",
   "execution_count": 43,
   "id": "d62e5556",
   "metadata": {},
   "outputs": [
    {
     "data": {
      "text/plain": [
       "0.87560540402753"
      ]
     },
     "execution_count": 43,
     "metadata": {},
     "output_type": "execute_result"
    }
   ],
   "source": [
    "accuracy_score(y_valid, y_pred_ovr_valid)"
   ]
  },
  {
   "cell_type": "code",
   "execution_count": 44,
   "id": "d707358e",
   "metadata": {},
   "outputs": [
    {
     "data": {
      "text/plain": [
       "0.8755330195542799"
      ]
     },
     "execution_count": 44,
     "metadata": {},
     "output_type": "execute_result"
    }
   ],
   "source": [
    "f1_score(y_valid, y_pred_ovr_valid, average='weighted')"
   ]
  },
  {
   "cell_type": "code",
   "execution_count": 45,
   "id": "6b161ef4",
   "metadata": {},
   "outputs": [
    {
     "data": {
      "text/plain": [
       "0.8769154547889189"
      ]
     },
     "execution_count": 45,
     "metadata": {},
     "output_type": "execute_result"
    }
   ],
   "source": [
    "precision_score(y_valid, y_pred_ovr_valid, average='weighted')"
   ]
  },
  {
   "cell_type": "code",
   "execution_count": 46,
   "id": "b5babdfa",
   "metadata": {},
   "outputs": [
    {
     "data": {
      "text/plain": [
       "0.87560540402753"
      ]
     },
     "execution_count": 46,
     "metadata": {},
     "output_type": "execute_result"
    }
   ],
   "source": [
    "recall_score(y_valid, y_pred_ovr_valid, average='weighted')"
   ]
  },
  {
   "cell_type": "markdown",
   "id": "fb4e2c4b",
   "metadata": {},
   "source": [
    "### 3.4.3 Test Set"
   ]
  },
  {
   "cell_type": "code",
   "execution_count": 47,
   "id": "5150b06c",
   "metadata": {},
   "outputs": [
    {
     "data": {
      "text/plain": [
       "0.7381632167499406"
      ]
     },
     "execution_count": 47,
     "metadata": {},
     "output_type": "execute_result"
    }
   ],
   "source": [
    "accuracy_score(y_test, y_pred_ovr)"
   ]
  },
  {
   "cell_type": "code",
   "execution_count": 48,
   "id": "a0af9cc3",
   "metadata": {},
   "outputs": [
    {
     "data": {
      "text/plain": [
       "0.7379994635984602"
      ]
     },
     "execution_count": 48,
     "metadata": {},
     "output_type": "execute_result"
    }
   ],
   "source": [
    "f1_score(y_test, y_pred_ovr, average='weighted')"
   ]
  },
  {
   "cell_type": "code",
   "execution_count": 49,
   "id": "709d9d67",
   "metadata": {},
   "outputs": [
    {
     "data": {
      "text/plain": [
       "0.7428185495110095"
      ]
     },
     "execution_count": 49,
     "metadata": {},
     "output_type": "execute_result"
    }
   ],
   "source": [
    "precision_score(y_test, y_pred_ovr, average='weighted')"
   ]
  },
  {
   "cell_type": "code",
   "execution_count": 50,
   "id": "d84dfde8",
   "metadata": {},
   "outputs": [
    {
     "data": {
      "text/plain": [
       "0.7381632167499406"
      ]
     },
     "execution_count": 50,
     "metadata": {},
     "output_type": "execute_result"
    }
   ],
   "source": [
    "recall_score(y_test, y_pred_ovr, average='weighted')"
   ]
  },
  {
   "cell_type": "markdown",
   "id": "2e0bbe5a",
   "metadata": {},
   "source": [
    "----------------"
   ]
  },
  {
   "cell_type": "markdown",
   "id": "eefbfbd7",
   "metadata": {},
   "source": [
    "## 3.5 LinearSVC <a class=\"anchor\" id=\"3.5\"></a>"
   ]
  },
  {
   "cell_type": "code",
   "execution_count": 51,
   "id": "c21ca02b",
   "metadata": {},
   "outputs": [],
   "source": [
    "clf = LinearSVC(random_state=0, tol=1e-3)"
   ]
  },
  {
   "cell_type": "markdown",
   "id": "2951b065",
   "metadata": {},
   "source": [
    "### 3.5.1 Training Set"
   ]
  },
  {
   "cell_type": "code",
   "execution_count": 52,
   "id": "3a7b4c59",
   "metadata": {},
   "outputs": [],
   "source": [
    "LinearSVC_model = clf.fit(x_train, y_train)"
   ]
  },
  {
   "cell_type": "code",
   "execution_count": 53,
   "id": "715384b3",
   "metadata": {},
   "outputs": [
    {
     "name": "stdout",
     "output_type": "stream",
     "text": [
      "Training Accuracy: 97.67%\n",
      "Valid set accuracy: 97.55%\n",
      "Test set accuracy: 73.16%\n"
     ]
    }
   ],
   "source": [
    "print(f'Training Accuracy: {LinearSVC_model.score(x_train, y_train)*100:.2f}%')\n",
    "print(f'Valid set accuracy: {LinearSVC_model.score(x_valid, y_valid)*100:.2f}%')\n",
    "print(f'Test set accuracy: {LinearSVC_model.score(x_test, y_test)*100:.2f}%')"
   ]
  },
  {
   "cell_type": "markdown",
   "id": "42b5d50c",
   "metadata": {},
   "source": [
    "### 3.5.2 Validation Set"
   ]
  },
  {
   "cell_type": "code",
   "execution_count": 54,
   "id": "26fd1f43",
   "metadata": {},
   "outputs": [],
   "source": [
    "y_pred_clf_valid = LinearSVC_model.predict(x_valid)"
   ]
  },
  {
   "cell_type": "code",
   "execution_count": 55,
   "id": "4dcf465b",
   "metadata": {},
   "outputs": [
    {
     "data": {
      "text/plain": [
       "0.9755289319398419"
      ]
     },
     "execution_count": 55,
     "metadata": {},
     "output_type": "execute_result"
    }
   ],
   "source": [
    "accuracy_score(y_valid, y_pred_clf_valid)"
   ]
  },
  {
   "cell_type": "code",
   "execution_count": 56,
   "id": "efd7c5f2",
   "metadata": {},
   "outputs": [
    {
     "data": {
      "text/plain": [
       "0.9754980516802335"
      ]
     },
     "execution_count": 56,
     "metadata": {},
     "output_type": "execute_result"
    }
   ],
   "source": [
    "f1_score(y_valid, y_pred_clf_valid, average='weighted')"
   ]
  },
  {
   "cell_type": "code",
   "execution_count": 57,
   "id": "02227c0e",
   "metadata": {},
   "outputs": [
    {
     "data": {
      "text/plain": [
       "0.9755952615228551"
      ]
     },
     "execution_count": 57,
     "metadata": {},
     "output_type": "execute_result"
    }
   ],
   "source": [
    "precision_score(y_valid, y_pred_clf_valid, average='weighted')"
   ]
  },
  {
   "cell_type": "code",
   "execution_count": 58,
   "id": "680cf257",
   "metadata": {},
   "outputs": [
    {
     "data": {
      "text/plain": [
       "0.9755289319398419"
      ]
     },
     "execution_count": 58,
     "metadata": {},
     "output_type": "execute_result"
    }
   ],
   "source": [
    "recall_score(y_valid, y_pred_clf_valid, average='weighted')"
   ]
  },
  {
   "cell_type": "markdown",
   "id": "5cde9d12",
   "metadata": {},
   "source": [
    "### 3.5.3 Test Set"
   ]
  },
  {
   "cell_type": "code",
   "execution_count": 59,
   "id": "00d8cc3e",
   "metadata": {},
   "outputs": [],
   "source": [
    "y_pred_clf = LinearSVC_model.predict(x_test)"
   ]
  },
  {
   "cell_type": "code",
   "execution_count": 60,
   "id": "b13f9c5b",
   "metadata": {},
   "outputs": [
    {
     "data": {
      "text/plain": [
       "0.7316202712348323"
      ]
     },
     "execution_count": 60,
     "metadata": {},
     "output_type": "execute_result"
    }
   ],
   "source": [
    "accuracy_score(y_test, y_pred_clf)"
   ]
  },
  {
   "cell_type": "code",
   "execution_count": 61,
   "id": "592756f1",
   "metadata": {},
   "outputs": [
    {
     "data": {
      "text/plain": [
       "0.7310298346722387"
      ]
     },
     "execution_count": 61,
     "metadata": {},
     "output_type": "execute_result"
    }
   ],
   "source": [
    "f1_score(y_test, y_pred_clf, average='weighted')"
   ]
  },
  {
   "cell_type": "code",
   "execution_count": 62,
   "id": "8a68c41c",
   "metadata": {},
   "outputs": [
    {
     "data": {
      "text/plain": [
       "0.73085368062498"
      ]
     },
     "execution_count": 62,
     "metadata": {},
     "output_type": "execute_result"
    }
   ],
   "source": [
    "precision_score(y_test, y_pred_clf, average='weighted')"
   ]
  },
  {
   "cell_type": "code",
   "execution_count": 63,
   "id": "223d0253",
   "metadata": {},
   "outputs": [
    {
     "data": {
      "text/plain": [
       "0.7316202712348323"
      ]
     },
     "execution_count": 63,
     "metadata": {},
     "output_type": "execute_result"
    }
   ],
   "source": [
    "recall_score(y_test, y_pred_clf, average='weighted')"
   ]
  },
  {
   "cell_type": "markdown",
   "id": "509a52d9",
   "metadata": {},
   "source": [
    "----------------------------------"
   ]
  },
  {
   "cell_type": "markdown",
   "id": "762786ff",
   "metadata": {},
   "source": [
    "## 3.6 StackingCVClassifier + GridSearchCV <a class=\"anchor\" id=\"3.6\"></a>"
   ]
  },
  {
   "cell_type": "code",
   "execution_count": 64,
   "id": "0ec765bf",
   "metadata": {},
   "outputs": [],
   "source": [
    "forest = RandomForestClassifier(n_estimators=100,\n",
    "                                random_state=123)\n",
    "\n",
    "boost = XGBClassifier(random_state=123, verbosity=0, use_label_encoder=False)\n",
    "\n",
    "metaclassifier = LogisticRegression(random_state=123, max_iter=1000)\n",
    "\n",
    "sclf = StackingCVClassifier(classifiers=[forest, boost], \n",
    "                            meta_classifier=metaclassifier, \n",
    "                            random_state=123)"
   ]
  },
  {
   "cell_type": "code",
   "execution_count": 65,
   "id": "82d1ca60",
   "metadata": {},
   "outputs": [
    {
     "name": "stdout",
     "output_type": "stream",
     "text": [
      "Fitting 2 folds for each of 8 candidates, totalling 16 fits\n",
      "[CV] END stackingcvclassifier__drop_proba_col=None, stackingcvclassifier__randomforestclassifier__n_estimators=10, stackingcvclassifier__use_probas=True, stackingcvclassifier__xgbclassifier__max_depth=4; total time=  54.6s\n",
      "[CV] END stackingcvclassifier__drop_proba_col=None, stackingcvclassifier__randomforestclassifier__n_estimators=10, stackingcvclassifier__use_probas=True, stackingcvclassifier__xgbclassifier__max_depth=4; total time= 1.0min\n",
      "[CV] END stackingcvclassifier__drop_proba_col=None, stackingcvclassifier__randomforestclassifier__n_estimators=10, stackingcvclassifier__use_probas=True, stackingcvclassifier__xgbclassifier__max_depth=6; total time= 1.2min\n",
      "[CV] END stackingcvclassifier__drop_proba_col=None, stackingcvclassifier__randomforestclassifier__n_estimators=10, stackingcvclassifier__use_probas=True, stackingcvclassifier__xgbclassifier__max_depth=6; total time= 1.3min\n",
      "[CV] END stackingcvclassifier__drop_proba_col=None, stackingcvclassifier__randomforestclassifier__n_estimators=10, stackingcvclassifier__use_probas=False, stackingcvclassifier__xgbclassifier__max_depth=4; total time=  54.3s\n",
      "[CV] END stackingcvclassifier__drop_proba_col=None, stackingcvclassifier__randomforestclassifier__n_estimators=10, stackingcvclassifier__use_probas=False, stackingcvclassifier__xgbclassifier__max_depth=4; total time= 1.0min\n",
      "[CV] END stackingcvclassifier__drop_proba_col=None, stackingcvclassifier__randomforestclassifier__n_estimators=10, stackingcvclassifier__use_probas=False, stackingcvclassifier__xgbclassifier__max_depth=6; total time= 1.4min\n",
      "[CV] END stackingcvclassifier__drop_proba_col=None, stackingcvclassifier__randomforestclassifier__n_estimators=10, stackingcvclassifier__use_probas=False, stackingcvclassifier__xgbclassifier__max_depth=6; total time= 1.4min\n",
      "[CV] END stackingcvclassifier__drop_proba_col=last, stackingcvclassifier__randomforestclassifier__n_estimators=10, stackingcvclassifier__use_probas=True, stackingcvclassifier__xgbclassifier__max_depth=4; total time= 1.2min\n",
      "[CV] END stackingcvclassifier__drop_proba_col=last, stackingcvclassifier__randomforestclassifier__n_estimators=10, stackingcvclassifier__use_probas=True, stackingcvclassifier__xgbclassifier__max_depth=4; total time= 1.2min\n",
      "[CV] END stackingcvclassifier__drop_proba_col=last, stackingcvclassifier__randomforestclassifier__n_estimators=10, stackingcvclassifier__use_probas=True, stackingcvclassifier__xgbclassifier__max_depth=6; total time= 1.7min\n",
      "[CV] END stackingcvclassifier__drop_proba_col=last, stackingcvclassifier__randomforestclassifier__n_estimators=10, stackingcvclassifier__use_probas=True, stackingcvclassifier__xgbclassifier__max_depth=6; total time= 1.6min\n",
      "[CV] END stackingcvclassifier__drop_proba_col=last, stackingcvclassifier__randomforestclassifier__n_estimators=10, stackingcvclassifier__use_probas=False, stackingcvclassifier__xgbclassifier__max_depth=4; total time= 1.0min\n",
      "[CV] END stackingcvclassifier__drop_proba_col=last, stackingcvclassifier__randomforestclassifier__n_estimators=10, stackingcvclassifier__use_probas=False, stackingcvclassifier__xgbclassifier__max_depth=4; total time=  59.1s\n",
      "[CV] END stackingcvclassifier__drop_proba_col=last, stackingcvclassifier__randomforestclassifier__n_estimators=10, stackingcvclassifier__use_probas=False, stackingcvclassifier__xgbclassifier__max_depth=6; total time= 1.4min\n",
      "[CV] END stackingcvclassifier__drop_proba_col=last, stackingcvclassifier__randomforestclassifier__n_estimators=10, stackingcvclassifier__use_probas=False, stackingcvclassifier__xgbclassifier__max_depth=6; total time= 1.6min\n"
     ]
    },
    {
     "data": {
      "text/plain": [
       "0.6620436467468896"
      ]
     },
     "execution_count": 65,
     "metadata": {},
     "output_type": "execute_result"
    }
   ],
   "source": [
    "pipe = make_pipeline(sclf)\n",
    "\n",
    "params =  {\n",
    "    'stackingcvclassifier__use_probas': [True, False],\n",
    "    'stackingcvclassifier__drop_proba_col': [None, 'last'],\n",
    "    'stackingcvclassifier__xgbclassifier__max_depth': [4, 6],\n",
    "    'stackingcvclassifier__randomforestclassifier__n_estimators': [10]\n",
    "}\n",
    "\n",
    "\n",
    "grid = GridSearchCV(estimator=pipe,\n",
    "                    param_grid=params,\n",
    "                    cv=2,\n",
    "                    n_jobs=1,\n",
    "                    verbose=2)\n",
    "\n",
    "#with parallel_backend('threading'):\n",
    "grid.fit(x_train, y_train)\n",
    "\n",
    "grid.best_score_"
   ]
  },
  {
   "cell_type": "markdown",
   "id": "fc3bff87",
   "metadata": {},
   "source": [
    "### 3.6.1 Training Set"
   ]
  },
  {
   "cell_type": "code",
   "execution_count": 66,
   "id": "392230ad",
   "metadata": {},
   "outputs": [
    {
     "name": "stdout",
     "output_type": "stream",
     "text": [
      "Train Accuracy: 95.05%\n",
      "Valid Accuracy: 95.44%\n",
      "Test Accuracy: 70.91%\n"
     ]
    }
   ],
   "source": [
    "print(f\"Train Accuracy: {grid.best_estimator_.score(x_train, y_train)*100:0.2f}%\")\n",
    "print(f\"Valid Accuracy: {grid.best_estimator_.score(x_valid, y_valid)*100:0.2f}%\")\n",
    "print(f\"Test Accuracy: {grid.best_estimator_.score(x_test, y_test)*100:0.2f}%\")"
   ]
  },
  {
   "cell_type": "markdown",
   "id": "22bdb21b",
   "metadata": {},
   "source": [
    "### 3.6.2 Validation Set"
   ]
  },
  {
   "cell_type": "code",
   "execution_count": 67,
   "id": "7ec922e1",
   "metadata": {},
   "outputs": [],
   "source": [
    "y_pred_grid_valid = grid.predict(x_valid)"
   ]
  },
  {
   "cell_type": "code",
   "execution_count": 68,
   "id": "fb8412c7",
   "metadata": {},
   "outputs": [
    {
     "data": {
      "text/plain": [
       "0.9542154091211849"
      ]
     },
     "execution_count": 68,
     "metadata": {},
     "output_type": "execute_result"
    }
   ],
   "source": [
    "f1_score(y_valid, y_pred_grid_valid, average='weighted')"
   ]
  },
  {
   "cell_type": "code",
   "execution_count": 69,
   "id": "8a3158fa",
   "metadata": {},
   "outputs": [
    {
     "data": {
      "text/plain": [
       "0.9542769416540927"
      ]
     },
     "execution_count": 69,
     "metadata": {},
     "output_type": "execute_result"
    }
   ],
   "source": [
    "precision_score(y_valid, y_pred_grid_valid, average='weighted')"
   ]
  },
  {
   "cell_type": "code",
   "execution_count": 70,
   "id": "33c06635",
   "metadata": {},
   "outputs": [
    {
     "data": {
      "text/plain": [
       "0.9543716543461637"
      ]
     },
     "execution_count": 70,
     "metadata": {},
     "output_type": "execute_result"
    }
   ],
   "source": [
    "recall_score(y_valid, y_pred_grid_valid, average='weighted')"
   ]
  },
  {
   "cell_type": "markdown",
   "id": "4dcc904f",
   "metadata": {},
   "source": [
    "### 3.6.3 Test Set"
   ]
  },
  {
   "cell_type": "code",
   "execution_count": 71,
   "id": "d6b0bc78",
   "metadata": {},
   "outputs": [],
   "source": [
    "y_pred_grid = grid.predict(x_test)"
   ]
  },
  {
   "cell_type": "code",
   "execution_count": 72,
   "id": "3ecc5283",
   "metadata": {},
   "outputs": [
    {
     "data": {
      "text/plain": [
       "0.7096300370180499"
      ]
     },
     "execution_count": 72,
     "metadata": {},
     "output_type": "execute_result"
    }
   ],
   "source": [
    "f1_score(y_test, y_pred_grid, average='weighted')"
   ]
  },
  {
   "cell_type": "code",
   "execution_count": 73,
   "id": "eb7891cc",
   "metadata": {},
   "outputs": [
    {
     "data": {
      "text/plain": [
       "0.7123087484131599"
      ]
     },
     "execution_count": 73,
     "metadata": {},
     "output_type": "execute_result"
    }
   ],
   "source": [
    "precision_score(y_test, y_pred_grid, average='weighted')"
   ]
  },
  {
   "cell_type": "code",
   "execution_count": 74,
   "id": "d2c44622",
   "metadata": {},
   "outputs": [
    {
     "data": {
      "text/plain": [
       "0.7091363311920057"
      ]
     },
     "execution_count": 74,
     "metadata": {},
     "output_type": "execute_result"
    }
   ],
   "source": [
    "recall_score(y_test, y_pred_grid, average='weighted')"
   ]
  },
  {
   "cell_type": "markdown",
   "id": "96c3839b",
   "metadata": {},
   "source": [
    "-----------------------------"
   ]
  },
  {
   "cell_type": "markdown",
   "id": "ea49878d",
   "metadata": {},
   "source": [
    "## 3.7 Decision Tree Classifier + Grid Search CV <a class=\"anchor\" id=\"3.7\"></a>"
   ]
  },
  {
   "cell_type": "code",
   "execution_count": 75,
   "id": "449894be",
   "metadata": {},
   "outputs": [
    {
     "data": {
      "text/plain": [
       "GridSearchCV(cv=10, estimator=DecisionTreeClassifier(random_state=123),\n",
       "             param_grid={'criterion': ['gini', 'entropy'],\n",
       "                         'max_depth': [1, 2, 3, 4, 5, 10, 15, 20, None]},\n",
       "             scoring='accuracy')"
      ]
     },
     "execution_count": 75,
     "metadata": {},
     "output_type": "execute_result"
    }
   ],
   "source": [
    "tree = DecisionTreeClassifier(random_state=123)\n",
    "\n",
    "param_grid = {\n",
    "    'max_depth': [1, 2, 3, 4, 5, 10, 15, 20, None],\n",
    "    'criterion': ['gini', 'entropy']\n",
    "}\n",
    "\n",
    "gs = GridSearchCV(estimator=tree,\n",
    "                  param_grid=param_grid,\n",
    "                  scoring='accuracy',\n",
    "                  cv=10)\n",
    "\n",
    "gs.fit(x_train, y_train)"
   ]
  },
  {
   "cell_type": "markdown",
   "id": "e5f3d851",
   "metadata": {},
   "source": [
    "### 3.7.1 Training Set"
   ]
  },
  {
   "cell_type": "code",
   "execution_count": 76,
   "id": "42648b3c",
   "metadata": {},
   "outputs": [
    {
     "name": "stdout",
     "output_type": "stream",
     "text": [
      "Train Accuracy: 99.91%\n",
      "Valid Accuracy: 99.87%\n",
      "Test Accuracy: 60.08%\n"
     ]
    }
   ],
   "source": [
    "print(f\"Train Accuracy: {gs.best_estimator_.score(x_train, y_train)*100:0.2f}%\")\n",
    "print(f\"Valid Accuracy: {gs.best_estimator_.score(x_valid, y_valid)*100:0.2f}%\")\n",
    "print(f\"Test Accuracy: {gs.best_estimator_.score(x_test, y_test)*100:0.2f}%\")"
   ]
  },
  {
   "cell_type": "markdown",
   "id": "ef964757",
   "metadata": {},
   "source": [
    "### 3.7.2 Validation Set"
   ]
  },
  {
   "cell_type": "code",
   "execution_count": 77,
   "id": "7193ba9e",
   "metadata": {},
   "outputs": [],
   "source": [
    "y_pred_gs_valid = gs.predict(x_valid)"
   ]
  },
  {
   "cell_type": "code",
   "execution_count": 78,
   "id": "aabf5ea2",
   "metadata": {},
   "outputs": [
    {
     "data": {
      "text/plain": [
       "0.9987260365974077"
      ]
     },
     "execution_count": 78,
     "metadata": {},
     "output_type": "execute_result"
    }
   ],
   "source": [
    "f1_score(y_valid, y_pred_gs_valid, average='weighted')"
   ]
  },
  {
   "cell_type": "code",
   "execution_count": 79,
   "id": "151142dc",
   "metadata": {},
   "outputs": [
    {
     "data": {
      "text/plain": [
       "0.9987285184887693"
      ]
     },
     "execution_count": 79,
     "metadata": {},
     "output_type": "execute_result"
    }
   ],
   "source": [
    "precision_score(y_valid, y_pred_gs_valid, average='weighted')"
   ]
  },
  {
   "cell_type": "code",
   "execution_count": 80,
   "id": "dab52685",
   "metadata": {},
   "outputs": [
    {
     "data": {
      "text/plain": [
       "0.9987254652052001"
      ]
     },
     "execution_count": 80,
     "metadata": {},
     "output_type": "execute_result"
    }
   ],
   "source": [
    "recall_score(y_valid, y_pred_gs_valid, average='weighted')"
   ]
  },
  {
   "cell_type": "markdown",
   "id": "6d3bf6c3",
   "metadata": {},
   "source": [
    "### 3.7.3 Test Set"
   ]
  },
  {
   "cell_type": "code",
   "execution_count": 81,
   "id": "5bf790ef",
   "metadata": {},
   "outputs": [],
   "source": [
    "y_pred_gs = gs.predict(x_test)"
   ]
  },
  {
   "cell_type": "code",
   "execution_count": 82,
   "id": "ebfe189c",
   "metadata": {},
   "outputs": [
    {
     "data": {
      "text/plain": [
       "0.6006005489446619"
      ]
     },
     "execution_count": 82,
     "metadata": {},
     "output_type": "execute_result"
    }
   ],
   "source": [
    "f1_score(y_test, y_pred_gs, average='weighted')"
   ]
  },
  {
   "cell_type": "code",
   "execution_count": 83,
   "id": "a45104a6",
   "metadata": {},
   "outputs": [
    {
     "data": {
      "text/plain": [
       "0.6014320582146789"
      ]
     },
     "execution_count": 83,
     "metadata": {},
     "output_type": "execute_result"
    }
   ],
   "source": [
    "precision_score(y_test, y_pred_gs, average='weighted')"
   ]
  },
  {
   "cell_type": "code",
   "execution_count": 84,
   "id": "a588d232",
   "metadata": {},
   "outputs": [
    {
     "data": {
      "text/plain": [
       "0.6007613609326672"
      ]
     },
     "execution_count": 84,
     "metadata": {},
     "output_type": "execute_result"
    }
   ],
   "source": [
    "recall_score(y_test, y_pred_gs, average='weighted')"
   ]
  }
 ],
 "metadata": {
  "kernelspec": {
   "display_name": "Python 3",
   "language": "python",
   "name": "python3"
  },
  "language_info": {
   "codemirror_mode": {
    "name": "ipython",
    "version": 3
   },
   "file_extension": ".py",
   "mimetype": "text/x-python",
   "name": "python",
   "nbconvert_exporter": "python",
   "pygments_lexer": "ipython3",
   "version": "3.8.8"
  }
 },
 "nbformat": 4,
 "nbformat_minor": 5
}
